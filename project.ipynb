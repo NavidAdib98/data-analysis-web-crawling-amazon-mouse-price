{
 "cells": [
  {
   "attachments": {},
   "cell_type": "markdown",
   "metadata": {},
   "source": [
    "<div style=\"display:block\" direction=rtl align=right><br><br>\n",
    "    <div  style=\"width:100%;margin:100;display:block\"  display=block align=center>\n",
    "        <img width=130 align=right src=\"https://i.ibb.co/yXKQmtZ/logo1.png\" style=\"margin:0;\" />\n",
    "        <img width=170 align=left  src=\"https://i.ibb.co/wLjqFkw/logo2.png\" style=\"margin:0;\" />\n",
    "        <span><br><font size=5>University of Tehran , school of ECE</font></span>\n",
    "        <span><br><font size=3>Data Analytics Course</font></span>\n",
    "        <span><br><font size=3>Fall 2022</font></span>\n",
    "    </div><br><br><br>\n",
    "    <div style=\"display:block\" align=left display=block> \n",
    "        <font size=3>Project</font><br>\n",
    "        <hr />\n",
    "        <font size=3>810100283: <a href=\"mailto:nadib1998@gmail.com\">Navid Adib</a><br></font><br>\n",
    "    </div>\n",
    "</div>"
   ]
  },
  {
   "cell_type": "code",
   "execution_count": 2,
   "metadata": {},
   "outputs": [],
   "source": [
    "from bs4 import BeautifulSoup\n",
    "import numpy as np\n",
    "import pandas as pd\n",
    "import matplotlib.pyplot as plt\n",
    "import requests\n",
    "import plotnine as p9 \n",
    "import seaborn as sns\n",
    "import regex as re"
   ]
  },
  {
   "attachments": {},
   "cell_type": "markdown",
   "metadata": {},
   "source": [
    "# بخش دوم crawler"
   ]
  },
  {
   "attachments": {},
   "cell_type": "markdown",
   "metadata": {},
   "source": [
    "### single page:"
   ]
  },
  {
   "cell_type": "code",
   "execution_count": 52,
   "metadata": {},
   "outputs": [],
   "source": [
    "def oneProductExtractInfo(link,headers):\n",
    "\n",
    "    url = 'https://www.amazon.in'+link\n",
    "    # get request\n",
    "    html = requests.get(url,headers=headers).text\n",
    "    # parsing with beautifulSoup\n",
    "    bs = BeautifulSoup(html,'lxml')\n",
    "\n",
    "    return extract_info(bs)\n",
    "    \n",
    "\n",
    "\n",
    "def extract_info(bs):\n",
    "    info = {}\n",
    "    info['title'] = (bs.find('span',id='productTitle').text)[8::]\n",
    "    infoTitles = [temp.text for temp in bs.find_all('span',class_=\"a-size-base a-text-bold\")][2::]\n",
    "    infoValues = [temp.text for temp in bs.find_all('span',class_=\"a-size-base po-break-word\")]\n",
    "    if not (len(infoTitles)== len(infoValues)):\n",
    "        print('error different size of tabel')\n",
    "        return info\n",
    "    technicalDetailsTitles = [temp.text for temp in bs.find_all('th',class_=\"a-color-secondary a-size-base prodDetSectionEntry\")]\n",
    "    technicalDetailsValues = [temp.text for temp in bs.find_all('td',class_=\"a-size-base prodDetAttrValue\")]\n",
    "    try:\n",
    "        i = infoTitles.index('Brand')\n",
    "        info[\"brand\"] = infoValues[i]\n",
    "    except:\n",
    "        info[\"brand\"] = ''\n",
    "    \n",
    "    try:\n",
    "        i = infoTitles.index('Colour')\n",
    "        info[\"colour\"] = infoValues[i]\n",
    "    except:\n",
    "        info[\"colour\"] = ''\n",
    "\n",
    "    try:\n",
    "        i = infoTitles.index('Connectivity Technology')\n",
    "        info['connectivityTechnology'] = infoValues[i]\n",
    "    except:\n",
    "        info[\"connectivityTechnology\"] = ''\n",
    "\n",
    "    try:\n",
    "        i = infoTitles.index('Special Feature')\n",
    "        info[\"specialFeature\"] = infoValues[i]\n",
    "    except:\n",
    "        info[\"specialFeature\"] = ''\n",
    "\n",
    "    try:\n",
    "        i = infoTitles.index('Movement Detection Technology')\n",
    "        info[\"movementDetectionTechnology\"] = infoValues[i]\n",
    "    except:\n",
    "        info[\"movementDetectionTechnology\"] = ''\n",
    "\n",
    "    try:\n",
    "        i = infoTitles.index('Number of Items')\n",
    "        info[\"numberOfItems\"] = infoValues[i]\n",
    "    except:\n",
    "        info[\"numberOfItems\"] = ''\n",
    "    try:\n",
    "        info['price'] = bs.find('span',class_='a-price-whole').text\n",
    "    except:\n",
    "        info['price']=''\n",
    "\n",
    "    try:\n",
    "        i = technicalDetailsTitles.index(' Item Weight ')\n",
    "        info[\"weight\"] = technicalDetailsValues[i][18::]\n",
    "    except:\n",
    "        info[\"weight\"] = ''\n",
    "    try:\n",
    "        i = technicalDetailsTitles.index(' Country of Origin ')\n",
    "        info[\"country\"] = technicalDetailsValues[i][18::]\n",
    "    except:\n",
    "        info[\"country\"] = ''\n",
    "    \n",
    "    return info\n",
    "\n"
   ]
  },
  {
   "attachments": {},
   "cell_type": "markdown",
   "metadata": {},
   "source": [
    "### crawling page\n",
    "#### 1 page by page (click on next button)\n",
    "#### 2 link by link in a single page\n",
    "#### 3 run previous function for single page"
   ]
  },
  {
   "cell_type": "code",
   "execution_count": 57,
   "metadata": {},
   "outputs": [
    {
     "name": "stdout",
     "output_type": "stream",
     "text": [
      "------------- page 0 -------------\n",
      "\n",
      "link 0 of page 0 processed\n",
      "link 15 of page 0 processed\n",
      "error different size of tabel\n",
      "------------- page 1 -------------\n",
      "\n",
      "link 0 of page 1 processed\n",
      "link 15 of page 1 processed\n",
      "------------- page 2 -------------\n",
      "\n",
      "link 0 of page 2 processed\n",
      "link 15 of page 2 processed\n",
      "------------- page 3 -------------\n",
      "\n",
      "link 0 of page 3 processed\n",
      "link 15 of page 3 processed\n",
      "error different size of tabel\n",
      "error different size of tabel\n",
      "------------- page 4 -------------\n",
      "\n",
      "link 0 of page 4 processed\n",
      "link 15 of page 4 processed\n",
      "error different size of tabel\n",
      "error different size of tabel\n",
      "------------- page 5 -------------\n",
      "\n",
      "link 0 of page 5 processed\n",
      "error different size of tabel\n",
      "link 15 of page 5 processed\n",
      "------------- page 6 -------------\n",
      "\n",
      "link 0 of page 6 processed\n",
      "error different size of tabel\n",
      "link 15 of page 6 processed\n",
      "------------- page 7 -------------\n",
      "\n",
      "link 0 of page 7 processed\n",
      "error different size of tabel\n",
      "link 15 of page 7 processed\n",
      "error different size of tabel\n",
      "------------- page 8 -------------\n",
      "\n",
      "link 0 of page 8 processed\n",
      "link 15 of page 8 processed\n",
      "error different size of tabel\n",
      "------------- page 9 -------------\n",
      "\n",
      "link 0 of page 9 processed\n",
      "something wrong ...\n"
     ]
    },
    {
     "data": {
      "text/html": [
       "<div>\n",
       "<style scoped>\n",
       "    .dataframe tbody tr th:only-of-type {\n",
       "        vertical-align: middle;\n",
       "    }\n",
       "\n",
       "    .dataframe tbody tr th {\n",
       "        vertical-align: top;\n",
       "    }\n",
       "\n",
       "    .dataframe thead th {\n",
       "        text-align: right;\n",
       "    }\n",
       "</style>\n",
       "<table border=\"1\" class=\"dataframe\">\n",
       "  <thead>\n",
       "    <tr style=\"text-align: right;\">\n",
       "      <th></th>\n",
       "      <th>title</th>\n",
       "      <th>brand</th>\n",
       "      <th>colour</th>\n",
       "      <th>connectivityTechnology</th>\n",
       "      <th>specialFeature</th>\n",
       "      <th>movementDetectionTechnology</th>\n",
       "      <th>numberOfItems</th>\n",
       "      <th>price</th>\n",
       "      <th>weight</th>\n",
       "      <th>country</th>\n",
       "    </tr>\n",
       "  </thead>\n",
       "  <tbody>\n",
       "    <tr>\n",
       "      <th>234</th>\n",
       "      <td>Ant Value FKAPU03 1000 DPI Wireless Mouse - Ro...</td>\n",
       "      <td></td>\n",
       "      <td></td>\n",
       "      <td></td>\n",
       "      <td></td>\n",
       "      <td></td>\n",
       "      <td></td>\n",
       "      <td>269.</td>\n",
       "      <td></td>\n",
       "      <td></td>\n",
       "    </tr>\n",
       "    <tr>\n",
       "      <th>235</th>\n",
       "      <td>Amazon Basics Wireless Mouse | 2.4 GHz Connect...</td>\n",
       "      <td>Amazon Basics</td>\n",
       "      <td>Black</td>\n",
       "      <td>USB</td>\n",
       "      <td>Wireless, Lightweight, Ergonomic Design</td>\n",
       "      <td>Optical</td>\n",
       "      <td></td>\n",
       "      <td>499.</td>\n",
       "      <td>115 g</td>\n",
       "      <td>India</td>\n",
       "    </tr>\n",
       "    <tr>\n",
       "      <th>236</th>\n",
       "      <td>Logitech M235 Wireless Mouse, 1000 DPI Optical...</td>\n",
       "      <td>Logitech</td>\n",
       "      <td>Grey</td>\n",
       "      <td></td>\n",
       "      <td>wireless</td>\n",
       "      <td>Optical</td>\n",
       "      <td></td>\n",
       "      <td>799.</td>\n",
       "      <td>83.9 g</td>\n",
       "      <td>China</td>\n",
       "    </tr>\n",
       "    <tr>\n",
       "      <th>237</th>\n",
       "      <td>Live Tech Boss 7D Gaming Mouse with RGB LED Li...</td>\n",
       "      <td>Live Tech</td>\n",
       "      <td>Black</td>\n",
       "      <td></td>\n",
       "      <td>Ergonomic Design, LED Lights</td>\n",
       "      <td>Optical</td>\n",
       "      <td></td>\n",
       "      <td>564.</td>\n",
       "      <td>150 g</td>\n",
       "      <td>China</td>\n",
       "    </tr>\n",
       "    <tr>\n",
       "      <th>238</th>\n",
       "      <td>LIPI Wired Wired Optical Mouse</td>\n",
       "      <td>LIPI</td>\n",
       "      <td></td>\n",
       "      <td></td>\n",
       "      <td>Wired, Ergonomic, Optical</td>\n",
       "      <td>Optical</td>\n",
       "      <td></td>\n",
       "      <td>150.</td>\n",
       "      <td></td>\n",
       "      <td></td>\n",
       "    </tr>\n",
       "  </tbody>\n",
       "</table>\n",
       "</div>"
      ],
      "text/plain": [
       "                                                 title          brand colour  \\\n",
       "234  Ant Value FKAPU03 1000 DPI Wireless Mouse - Ro...                         \n",
       "235  Amazon Basics Wireless Mouse | 2.4 GHz Connect...  Amazon Basics  Black   \n",
       "236  Logitech M235 Wireless Mouse, 1000 DPI Optical...       Logitech   Grey   \n",
       "237  Live Tech Boss 7D Gaming Mouse with RGB LED Li...      Live Tech  Black   \n",
       "238              LIPI Wired Wired Optical Mouse                  LIPI          \n",
       "\n",
       "    connectivityTechnology                           specialFeature  \\\n",
       "234                                                                   \n",
       "235                    USB  Wireless, Lightweight, Ergonomic Design   \n",
       "236                                                        wireless   \n",
       "237                                    Ergonomic Design, LED Lights   \n",
       "238                                       Wired, Ergonomic, Optical   \n",
       "\n",
       "    movementDetectionTechnology numberOfItems price   weight country  \n",
       "234                                            269.                   \n",
       "235                     Optical                499.   115 g   India   \n",
       "236                     Optical                799.  83.9 g   China   \n",
       "237                     Optical                564.   150 g   China   \n",
       "238                     Optical                150.                   "
      ]
     },
     "execution_count": 57,
     "metadata": {},
     "output_type": "execute_result"
    }
   ],
   "source": [
    "data = []\n",
    "\n",
    "url = 'https://www.amazon.in/s?k=mouse&qid=1674070039&sprefix=mouse%2Caps%2C709&ref=sr_pg_200'\n",
    "# headers = {'User-Agent':'Mozilla/5.0 (Windows NT 10.0; Win64; x64) AppleWebKit/537.36 (KHTML, like Gecko) Chrome/58.0.3029.110 Safari/537.3'}\n",
    "headers = ({'User-Agent':'Mozilla/5.0 (X11; Linux x86_64) AppleWebKit/537.36 (KHTML, like Gecko) Chrome/44.0.2403.157 Safari/537.36'})\n",
    "# headers = ({'User-Agent':'Mozilla/3.0 (Windows 11.0; Win32; x32) AppleWebKit/53 (KHTML, like Gecko) Chrome/58.0.3029.110 Safari/537.3'})\n",
    "html = requests.get(url,headers=headers).text\n",
    "bs = BeautifulSoup(html,'lxml')\n",
    "\n",
    "for i in range(0,10): # number of page to crawl\n",
    "    print('------------- page '+str(i)+ ' -------------')\n",
    "    print()\n",
    "    try:\n",
    "        next_link = 'https://www.amazon.in' + bs.find(\"a\",\n",
    "            class_=\"s-pagination-item s-pagination-next s-pagination-button s-pagination-separator\")['href']\n",
    "\n",
    "        html = requests.get(next_link,headers=headers).text\n",
    "        bs = BeautifulSoup(html,'lxml')\n",
    "        links = [temp['href'] for temp in bs.find_all('a',class_='a-link-normal s-underline-text s-underline-link-text s-link-style a-text-normal')]\n",
    "        \n",
    "        for id , link in enumerate(links):\n",
    "            data.append(oneProductExtractInfo(link,headers))\n",
    "            if( id%15 == 0):\n",
    "                print('link '+str(id) + ' of page ' + str(i) +' processed')\n",
    "                #print(oneProductExtractInfo(link,headers))\n",
    "    except:\n",
    "        print('something wrong ...')\n",
    "\n",
    "df = pd.DataFrame(data)\n",
    "df.to_csv('df-mouse7.csv')\n",
    "df.tail()"
   ]
  },
  {
   "attachments": {},
   "cell_type": "markdown",
   "metadata": {},
   "source": [
    "### concatenate all dataframes"
   ]
  },
  {
   "cell_type": "code",
   "execution_count": 60,
   "metadata": {},
   "outputs": [],
   "source": [
    "df1 = pd.read_csv('df-mouse.csv')\n",
    "df2 = pd.read_csv('df-mouse1.csv')\n",
    "df3 = pd.read_csv('df-mouse2.csv')\n",
    "df4 = pd.read_csv('df-mouse3.csv')\n",
    "df5 = pd.read_csv('df-mouse4.csv')\n",
    "df6 = pd.read_csv('df-mouse5.csv')\n",
    "df7 = pd.read_csv('df-mouse6.csv')\n",
    "df8 = pd.read_csv('df-mouse7.csv')\n",
    "\n",
    "df = pd.concat([df1,df2,df3,df4,df5,df6,df7,df8],ignore_index=True).reset_index().drop(['index','Unnamed: 0'],axis=1)\n",
    "df.tail(20)\n",
    "df.to_csv('all-mouse-data.csv')"
   ]
  },
  {
   "attachments": {},
   "cell_type": "markdown",
   "metadata": {},
   "source": [
    "# بخش سوم data cleaning"
   ]
  },
  {
   "cell_type": "code",
   "execution_count": 2,
   "metadata": {},
   "outputs": [
    {
     "data": {
      "text/html": [
       "<div>\n",
       "<style scoped>\n",
       "    .dataframe tbody tr th:only-of-type {\n",
       "        vertical-align: middle;\n",
       "    }\n",
       "\n",
       "    .dataframe tbody tr th {\n",
       "        vertical-align: top;\n",
       "    }\n",
       "\n",
       "    .dataframe thead th {\n",
       "        text-align: right;\n",
       "    }\n",
       "</style>\n",
       "<table border=\"1\" class=\"dataframe\">\n",
       "  <thead>\n",
       "    <tr style=\"text-align: right;\">\n",
       "      <th></th>\n",
       "      <th>title</th>\n",
       "      <th>brand</th>\n",
       "      <th>colour</th>\n",
       "      <th>connectivityTechnology</th>\n",
       "      <th>specialFeature</th>\n",
       "      <th>movementDetectionTechnology</th>\n",
       "      <th>numberOfItems</th>\n",
       "      <th>price</th>\n",
       "      <th>weight</th>\n",
       "      <th>country</th>\n",
       "    </tr>\n",
       "  </thead>\n",
       "  <tbody>\n",
       "    <tr>\n",
       "      <th>194</th>\n",
       "      <td>lipi wired wired optical mouse</td>\n",
       "      <td>lipi</td>\n",
       "      <td>NaN</td>\n",
       "      <td>NaN</td>\n",
       "      <td>wired, ergonomic, optical</td>\n",
       "      <td>optical</td>\n",
       "      <td>NaN</td>\n",
       "      <td>150.</td>\n",
       "      <td>NaN</td>\n",
       "      <td>NaN</td>\n",
       "    </tr>\n",
       "  </tbody>\n",
       "</table>\n",
       "</div>"
      ],
      "text/plain": [
       "                                     title brand colour  \\\n",
       "194  lipi wired wired optical mouse         lipi    NaN   \n",
       "\n",
       "    connectivityTechnology             specialFeature  \\\n",
       "194                    NaN  wired, ergonomic, optical   \n",
       "\n",
       "    movementDetectionTechnology  numberOfItems price weight country  \n",
       "194                     optical            NaN  150.    NaN     NaN  "
      ]
     },
     "execution_count": 2,
     "metadata": {},
     "output_type": "execute_result"
    }
   ],
   "source": [
    "df = pd.read_csv('./all-mouse-data.csv').drop(['Unnamed: 0'],axis=1)\n",
    "\n",
    "### lowercase\n",
    "df['title'] = df['title'].str.lower()\n",
    "df['brand'] = df['brand'].str.lower()\n",
    "df['colour'] = df['colour'].str.lower()\n",
    "df['connectivityTechnology'] = df['connectivityTechnology'].str.lower()\n",
    "df['specialFeature'] = df['specialFeature'].str.lower()\n",
    "df['movementDetectionTechnology'] = df['movementDetectionTechnology'].str.lower()\n",
    "df['country'] = df['country'].str.lower()\n",
    "\n",
    "\n",
    "df = df.drop_duplicates().reset_index().drop(['index'],axis=1)\n",
    "df.tail(1)"
   ]
  },
  {
   "cell_type": "code",
   "execution_count": 3,
   "metadata": {},
   "outputs": [
    {
     "name": "stdout",
     "output_type": "stream",
     "text": [
      "1.0    1\n",
      "Name: numberOfItems, dtype: int64\n"
     ]
    }
   ],
   "source": [
    "### drop column ['numberOfItems']\n",
    "print(df['numberOfItems'].value_counts())\n",
    "df = df.drop(['numberOfItems'],axis=1)\n",
    "### drop null price\n",
    "df = df.dropna(subset=['price'])"
   ]
  },
  {
   "cell_type": "code",
   "execution_count": 4,
   "metadata": {},
   "outputs": [
    {
     "name": "stdout",
     "output_type": "stream",
     "text": [
      "<class 'pandas.core.frame.DataFrame'>\n",
      "Int64Index: 187 entries, 0 to 194\n",
      "Data columns (total 9 columns):\n",
      " #   Column                       Non-Null Count  Dtype \n",
      "---  ------                       --------------  ----- \n",
      " 0   title                        187 non-null    object\n",
      " 1   brand                        181 non-null    object\n",
      " 2   colour                       169 non-null    object\n",
      " 3   connectivityTechnology       55 non-null     object\n",
      " 4   specialFeature               173 non-null    object\n",
      " 5   movementDetectionTechnology  166 non-null    object\n",
      " 6   price                        187 non-null    object\n",
      " 7   weight                       175 non-null    object\n",
      " 8   country                      166 non-null    object\n",
      "dtypes: object(9)\n",
      "memory usage: 14.6+ KB\n"
     ]
    }
   ],
   "source": [
    "df.info()"
   ]
  },
  {
   "attachments": {},
   "cell_type": "markdown",
   "metadata": {},
   "source": [
    "### extract data"
   ]
  },
  {
   "attachments": {},
   "cell_type": "markdown",
   "metadata": {},
   "source": [
    "new columns"
   ]
  },
  {
   "cell_type": "code",
   "execution_count": 5,
   "metadata": {},
   "outputs": [
    {
     "name": "stderr",
     "output_type": "stream",
     "text": [
      "/var/folders/n4/0l7qt0n131n42vmrhhjty9q00000gn/T/ipykernel_8452/3744248310.py:19: SettingWithCopyWarning: \n",
      "A value is trying to be set on a copy of a slice from a DataFrame\n",
      "\n",
      "See the caveats in the documentation: https://pandas.pydata.org/pandas-docs/stable/user_guide/indexing.html#returning-a-view-versus-a-copy\n",
      "/var/folders/n4/0l7qt0n131n42vmrhhjty9q00000gn/T/ipykernel_8452/3744248310.py:20: SettingWithCopyWarning: \n",
      "A value is trying to be set on a copy of a slice from a DataFrame\n",
      "\n",
      "See the caveats in the documentation: https://pandas.pydata.org/pandas-docs/stable/user_guide/indexing.html#returning-a-view-versus-a-copy\n",
      "/var/folders/n4/0l7qt0n131n42vmrhhjty9q00000gn/T/ipykernel_8452/3744248310.py:22: SettingWithCopyWarning: \n",
      "A value is trying to be set on a copy of a slice from a DataFrame\n",
      "\n",
      "See the caveats in the documentation: https://pandas.pydata.org/pandas-docs/stable/user_guide/indexing.html#returning-a-view-versus-a-copy\n",
      "/var/folders/n4/0l7qt0n131n42vmrhhjty9q00000gn/T/ipykernel_8452/3744248310.py:23: SettingWithCopyWarning: \n",
      "A value is trying to be set on a copy of a slice from a DataFrame\n",
      "\n",
      "See the caveats in the documentation: https://pandas.pydata.org/pandas-docs/stable/user_guide/indexing.html#returning-a-view-versus-a-copy\n",
      "/var/folders/n4/0l7qt0n131n42vmrhhjty9q00000gn/T/ipykernel_8452/3744248310.py:24: SettingWithCopyWarning: \n",
      "A value is trying to be set on a copy of a slice from a DataFrame\n",
      "\n",
      "See the caveats in the documentation: https://pandas.pydata.org/pandas-docs/stable/user_guide/indexing.html#returning-a-view-versus-a-copy\n",
      "/var/folders/n4/0l7qt0n131n42vmrhhjty9q00000gn/T/ipykernel_8452/3744248310.py:25: SettingWithCopyWarning: \n",
      "A value is trying to be set on a copy of a slice from a DataFrame\n",
      "\n",
      "See the caveats in the documentation: https://pandas.pydata.org/pandas-docs/stable/user_guide/indexing.html#returning-a-view-versus-a-copy\n",
      "/var/folders/n4/0l7qt0n131n42vmrhhjty9q00000gn/T/ipykernel_8452/3744248310.py:26: SettingWithCopyWarning: \n",
      "A value is trying to be set on a copy of a slice from a DataFrame\n",
      "\n",
      "See the caveats in the documentation: https://pandas.pydata.org/pandas-docs/stable/user_guide/indexing.html#returning-a-view-versus-a-copy\n",
      "/var/folders/n4/0l7qt0n131n42vmrhhjty9q00000gn/T/ipykernel_8452/3744248310.py:27: SettingWithCopyWarning: \n",
      "A value is trying to be set on a copy of a slice from a DataFrame\n",
      "\n",
      "See the caveats in the documentation: https://pandas.pydata.org/pandas-docs/stable/user_guide/indexing.html#returning-a-view-versus-a-copy\n",
      "/var/folders/n4/0l7qt0n131n42vmrhhjty9q00000gn/T/ipykernel_8452/3744248310.py:28: SettingWithCopyWarning: \n",
      "A value is trying to be set on a copy of a slice from a DataFrame\n",
      "\n",
      "See the caveats in the documentation: https://pandas.pydata.org/pandas-docs/stable/user_guide/indexing.html#returning-a-view-versus-a-copy\n",
      "/var/folders/n4/0l7qt0n131n42vmrhhjty9q00000gn/T/ipykernel_8452/3744248310.py:32: SettingWithCopyWarning: \n",
      "A value is trying to be set on a copy of a slice from a DataFrame\n",
      "\n",
      "See the caveats in the documentation: https://pandas.pydata.org/pandas-docs/stable/user_guide/indexing.html#returning-a-view-versus-a-copy\n",
      "/var/folders/n4/0l7qt0n131n42vmrhhjty9q00000gn/T/ipykernel_8452/3744248310.py:35: SettingWithCopyWarning: \n",
      "A value is trying to be set on a copy of a slice from a DataFrame\n",
      "\n",
      "See the caveats in the documentation: https://pandas.pydata.org/pandas-docs/stable/user_guide/indexing.html#returning-a-view-versus-a-copy\n"
     ]
    }
   ],
   "source": [
    "def extractFeature(data):\n",
    "    df = data.copy()\n",
    "    df['wireless']=False\n",
    "    df['usb']=False\n",
    "    df['bluetooth']=False\n",
    "    df['ergonomic']=False\n",
    "    df['portable']=False\n",
    "    df['soundless']=False\n",
    "    df['led_ligths']=False\n",
    "    df['rechargeable']=False\n",
    "    df['lightweight']=False\n",
    "    df['programmable_button']=False\n",
    "\n",
    "    for ind in df.index:\n",
    "        feature = str(df['specialFeature'][ind])\n",
    "        title = str(df['title'][ind])\n",
    "        connTech = str(df['connectivityTechnology'][ind])\n",
    "        # -----------------------------------------------------------\n",
    "        df['wireless'][ind]            = feature.find('wireless')>-1 or title.find('wireless')>-1 or connTech.find('wireless')>-1\n",
    "        df['usb'][ind]                 = feature.find('usb')>-1 or title.find('usb')>-1 or connTech.find('usb')>-1\n",
    "        df['bluetooth']                = feature.find('bluetooth')>-1 or title.find('bluetooth')>-1 or connTech.find('bluetooth')>-1 \n",
    "        df['ergonomic'][ind]           = feature.find('ergonomic')>-1 or title.find('ergonomic')>-1\n",
    "        df['portable'][ind]            = feature.find('portable')>-1 or title.find('portable')>-1\n",
    "        df['soundless'][ind]           = feature.find('soundless')>-1 or title.find('soundless')>-1\n",
    "        df['led_ligths'][ind]          = feature.find('led lights')>-1 or title.find('led lights')>-1\n",
    "        df['rechargeable'][ind]        = feature.find('rechargeable')>-1 or title.find('rechargeable')>-1\n",
    "        df['lightweight'][ind]         = feature.find('lightweight')>-1 or title.find('lightweight')>-1\n",
    "        df['programmable_button'][ind] = feature.find('programmable buttons')>-1 or title.find('programmable buttons')>-1\n",
    "\n",
    "        # ---------- movementDetectionTechnology --------------------\n",
    "        if feature.find('optical')>-1 or title.find('optical')>-1:\n",
    "            df['movementDetectionTechnology'][ind]='optical'\n",
    "\n",
    "        if feature.find('laser')>-1 or title.find('laser')>-1:\n",
    "            df['movementDetectionTechnology'][ind]='laser'\n",
    "\n",
    "      \n",
    "    # df = df[df['connectivityTechnology']!='wired']\n",
    "    # df = df[df['connectivityTechnology']!='wireless']\n",
    "    df = df.drop(['specialFeature','connectivityTechnology','colour','country'],axis=1).reset_index().drop(['index'],axis=1)\n",
    "    return(df)\n",
    "\n",
    "df = extractFeature(df)"
   ]
  },
  {
   "attachments": {},
   "cell_type": "markdown",
   "metadata": {},
   "source": [
    "### change type of each column"
   ]
  },
  {
   "cell_type": "code",
   "execution_count": 6,
   "metadata": {},
   "outputs": [],
   "source": [
    "df['brand']                       = df['brand'].astype('category')\n",
    "# df['colour']                      = df['colour'].astype('category')\n",
    "# df['connectivityTechnology']      = df['connectivityTechnology'].astype('category')\n",
    "df['movementDetectionTechnology'] = df['movementDetectionTechnology'].astype('category')\n",
    "# df['country']                     = df['country'].astype('category')\n",
    "df['price']                       = pd.to_numeric(df['price'].apply(lambda x: str(x).replace(',','')))\n",
    "\n",
    "# df.rename(columns = {'colour':'color'}, inplace = True)\n",
    "\n"
   ]
  },
  {
   "cell_type": "code",
   "execution_count": 7,
   "metadata": {},
   "outputs": [
    {
     "data": {
      "text/plain": [
       "array(['109 g ', '90 g ', '200 g ', '60.9 g ', '900 g ', '129 g ',\n",
       "       '120 g ', '50 g ', '125 g ', '91 g ', '150 g ', '53 g ', '74 g ',\n",
       "       '60 g ', '115 g ', '80 g ', '175 g ', '89 g ', '86 g ', '170 g ',\n",
       "       '153 g ', '144 g ', '84 g ', '54 g ', '100 g ', '75 g ', '190 g ',\n",
       "       '69 g ', '70 g ', '83.9 g ', '54.4 g ', '61 g ', '130 g ',\n",
       "       '140 g ', '73 g ', '59.9 g ', '110 g ', nan, '77 g ', '82 g ',\n",
       "       '78 g ', '96 g ', '160 g ', '134 g ', '122 g ', '55 g ', '111 g ',\n",
       "       '145 g ', '68 g ', '340 g ', '105 g ', '30 g ', '65 g ', '66 g ',\n",
       "       '136 g ', '94 g ', '68 Grams ', '114 g ', '85 g ', '57 g ',\n",
       "       '380 g ', '27 g ', '300 g ', '83.8 g ', '83 g ', '90.7 g ',\n",
       "       '1 kg 500 g ', '20 g ', '400 g ', '88 g ', '113 g ', '101 g ',\n",
       "       '40 g ', '141 g '], dtype=object)"
      ]
     },
     "execution_count": 7,
     "metadata": {},
     "output_type": "execute_result"
    }
   ],
   "source": [
    "df['weight'].unique()"
   ]
  },
  {
   "cell_type": "code",
   "execution_count": 8,
   "metadata": {},
   "outputs": [],
   "source": [
    "def g_kg_to_number(x):\n",
    "    try:\n",
    "        x = str(x).lower().replace(\" \", \"\")\n",
    "        if 'kg' in x:\n",
    "            temp = x.split('kg')\n",
    "            g  = temp[1].split('grams')[0].split('gram')[0].split('g')[0]\n",
    "            kg = float(temp[0])\n",
    "            if g != '': \n",
    "                return (kg*1000) + float(g)\n",
    "            else:\n",
    "                return (kg*1000)\n",
    "\n",
    "        else:\n",
    "            g = float(x.split('grams')[0].split('gram')[0].split('g')[0])\n",
    "            return g\n",
    "    except:\n",
    "        return ''\n",
    "\n",
    "df['weight'] = df['weight'].apply(lambda x: g_kg_to_number(x))\n",
    "df['weight'] = df['weight'].replace({'nan':np.nan})"
   ]
  },
  {
   "cell_type": "code",
   "execution_count": 10,
   "metadata": {},
   "outputs": [
    {
     "data": {
      "text/plain": [
       "array([ 109. ,   90. ,  200. ,   60.9,  900. ,  129. ,  120. ,   50. ,\n",
       "        125. ,   91. ,  150. ,   53. ,   74. ,   60. ,  115. ,   80. ,\n",
       "        175. ,   89. ,   86. ,  170. ,  153. ,  144. ,   84. ,   54. ,\n",
       "        100. ,   75. ,  190. ,   69. ,   70. ,   83.9,   54.4,   61. ,\n",
       "        130. ,  140. ,   73. ,   59.9,  110. ,    nan,   77. ,   82. ,\n",
       "         78. ,   96. ,  160. ,  134. ,  122. ,   55. ,  111. ,  145. ,\n",
       "         68. ,  340. ,  105. ,   30. ,   65. ,   66. ,  136. ,   94. ,\n",
       "        114. ,   85. ,   57. ,  380. ,   27. ,  300. ,   83.8,   83. ,\n",
       "         90.7, 1500. ,   20. ,  400. ,   88. ,  113. ,  101. ,   40. ,\n",
       "        141. ])"
      ]
     },
     "execution_count": 10,
     "metadata": {},
     "output_type": "execute_result"
    }
   ],
   "source": [
    "df['weight'].unique()"
   ]
  },
  {
   "cell_type": "code",
   "execution_count": 11,
   "metadata": {},
   "outputs": [
    {
     "name": "stdout",
     "output_type": "stream",
     "text": [
      "<class 'pandas.core.frame.DataFrame'>\n",
      "RangeIndex: 187 entries, 0 to 186\n",
      "Data columns (total 15 columns):\n",
      " #   Column                       Non-Null Count  Dtype   \n",
      "---  ------                       --------------  -----   \n",
      " 0   title                        187 non-null    object  \n",
      " 1   brand                        181 non-null    category\n",
      " 2   movementDetectionTechnology  168 non-null    category\n",
      " 3   price                        187 non-null    float64 \n",
      " 4   weight                       175 non-null    float64 \n",
      " 5   wireless                     187 non-null    bool    \n",
      " 6   usb                          187 non-null    bool    \n",
      " 7   bluetooth                    187 non-null    bool    \n",
      " 8   ergonomic                    187 non-null    bool    \n",
      " 9   portable                     187 non-null    bool    \n",
      " 10  soundless                    187 non-null    bool    \n",
      " 11  led_ligths                   187 non-null    bool    \n",
      " 12  rechargeable                 187 non-null    bool    \n",
      " 13  lightweight                  187 non-null    bool    \n",
      " 14  programmable_button          187 non-null    bool    \n",
      "dtypes: bool(10), category(2), float64(2), object(1)\n",
      "memory usage: 8.3+ KB\n"
     ]
    }
   ],
   "source": [
    "df.info()\n",
    "df.to_csv('clean-mouses.csv')"
   ]
  },
  {
   "attachments": {},
   "cell_type": "markdown",
   "metadata": {},
   "source": [
    "# بخش چهارم: مصورسازی EDA"
   ]
  },
  {
   "cell_type": "code",
   "execution_count": 2,
   "metadata": {},
   "outputs": [
    {
     "data": {
      "text/html": [
       "<div>\n",
       "<style scoped>\n",
       "    .dataframe tbody tr th:only-of-type {\n",
       "        vertical-align: middle;\n",
       "    }\n",
       "\n",
       "    .dataframe tbody tr th {\n",
       "        vertical-align: top;\n",
       "    }\n",
       "\n",
       "    .dataframe thead th {\n",
       "        text-align: right;\n",
       "    }\n",
       "</style>\n",
       "<table border=\"1\" class=\"dataframe\">\n",
       "  <thead>\n",
       "    <tr style=\"text-align: right;\">\n",
       "      <th></th>\n",
       "      <th>brand</th>\n",
       "      <th>movementDetectionTechnology</th>\n",
       "      <th>wireless</th>\n",
       "      <th>usb</th>\n",
       "      <th>bluetooth</th>\n",
       "      <th>ergonomic</th>\n",
       "      <th>portable</th>\n",
       "      <th>soundless</th>\n",
       "      <th>led_ligths</th>\n",
       "      <th>rechargeable</th>\n",
       "      <th>lightweight</th>\n",
       "      <th>programmable_button</th>\n",
       "      <th>weight</th>\n",
       "      <th>price</th>\n",
       "    </tr>\n",
       "  </thead>\n",
       "  <tbody>\n",
       "    <tr>\n",
       "      <th>0</th>\n",
       "      <td>logitech</td>\n",
       "      <td>optical</td>\n",
       "      <td>False</td>\n",
       "      <td>True</td>\n",
       "      <td>False</td>\n",
       "      <td>False</td>\n",
       "      <td>False</td>\n",
       "      <td>False</td>\n",
       "      <td>False</td>\n",
       "      <td>False</td>\n",
       "      <td>False</td>\n",
       "      <td>False</td>\n",
       "      <td>109.0</td>\n",
       "      <td>269.0</td>\n",
       "    </tr>\n",
       "    <tr>\n",
       "      <th>1</th>\n",
       "      <td>hp</td>\n",
       "      <td>optical</td>\n",
       "      <td>False</td>\n",
       "      <td>True</td>\n",
       "      <td>False</td>\n",
       "      <td>False</td>\n",
       "      <td>False</td>\n",
       "      <td>False</td>\n",
       "      <td>False</td>\n",
       "      <td>False</td>\n",
       "      <td>False</td>\n",
       "      <td>False</td>\n",
       "      <td>90.0</td>\n",
       "      <td>349.0</td>\n",
       "    </tr>\n",
       "    <tr>\n",
       "      <th>2</th>\n",
       "      <td>quantum</td>\n",
       "      <td>optical</td>\n",
       "      <td>False</td>\n",
       "      <td>True</td>\n",
       "      <td>False</td>\n",
       "      <td>True</td>\n",
       "      <td>False</td>\n",
       "      <td>True</td>\n",
       "      <td>False</td>\n",
       "      <td>False</td>\n",
       "      <td>False</td>\n",
       "      <td>False</td>\n",
       "      <td>200.0</td>\n",
       "      <td>149.0</td>\n",
       "    </tr>\n",
       "    <tr>\n",
       "      <th>3</th>\n",
       "      <td>razer</td>\n",
       "      <td>optical</td>\n",
       "      <td>False</td>\n",
       "      <td>False</td>\n",
       "      <td>False</td>\n",
       "      <td>False</td>\n",
       "      <td>False</td>\n",
       "      <td>False</td>\n",
       "      <td>False</td>\n",
       "      <td>False</td>\n",
       "      <td>True</td>\n",
       "      <td>True</td>\n",
       "      <td>60.9</td>\n",
       "      <td>1685.0</td>\n",
       "    </tr>\n",
       "    <tr>\n",
       "      <th>4</th>\n",
       "      <td>zebronics</td>\n",
       "      <td>optical</td>\n",
       "      <td>True</td>\n",
       "      <td>True</td>\n",
       "      <td>False</td>\n",
       "      <td>False</td>\n",
       "      <td>False</td>\n",
       "      <td>False</td>\n",
       "      <td>False</td>\n",
       "      <td>False</td>\n",
       "      <td>False</td>\n",
       "      <td>False</td>\n",
       "      <td>900.0</td>\n",
       "      <td>139.0</td>\n",
       "    </tr>\n",
       "  </tbody>\n",
       "</table>\n",
       "</div>"
      ],
      "text/plain": [
       "       brand movementDetectionTechnology  wireless    usb  bluetooth  \\\n",
       "0   logitech                     optical     False   True      False   \n",
       "1         hp                     optical     False   True      False   \n",
       "2    quantum                     optical     False   True      False   \n",
       "3      razer                     optical     False  False      False   \n",
       "4  zebronics                     optical      True   True      False   \n",
       "\n",
       "   ergonomic  portable  soundless  led_ligths  rechargeable  lightweight  \\\n",
       "0      False     False      False       False         False        False   \n",
       "1      False     False      False       False         False        False   \n",
       "2       True     False       True       False         False        False   \n",
       "3      False     False      False       False         False         True   \n",
       "4      False     False      False       False         False        False   \n",
       "\n",
       "   programmable_button  weight   price  \n",
       "0                False   109.0   269.0  \n",
       "1                False    90.0   349.0  \n",
       "2                False   200.0   149.0  \n",
       "3                 True    60.9  1685.0  \n",
       "4                False   900.0   139.0  "
      ]
     },
     "execution_count": 2,
     "metadata": {},
     "output_type": "execute_result"
    }
   ],
   "source": [
    "df = pd.read_csv('clean-mouses.csv',).drop(['Unnamed: 0'],axis=1)\n",
    "df['brand']                       = df['brand'].astype('category')\n",
    "# df['color']                       = df['color'].astype('category')\n",
    "# df['connectivityTechnology']      = df['connectivityTechnology'].astype('category')\n",
    "df['movementDetectionTechnology'] = df['movementDetectionTechnology'].astype('category')\n",
    "df1 = df.loc[:,['brand','movementDetectionTechnology','wireless','usb','bluetooth','ergonomic','portable','soundless','led_ligths','rechargeable','lightweight','programmable_button','weight','price']]\n",
    "df1.dropna(how='any',inplace=True)\n",
    "df1.head()"
   ]
  },
  {
   "cell_type": "code",
   "execution_count": 3,
   "metadata": {},
   "outputs": [
    {
     "data": {
      "text/plain": [
       "True     116\n",
       "False     45\n",
       "Name: usb, dtype: int64"
      ]
     },
     "execution_count": 3,
     "metadata": {},
     "output_type": "execute_result"
    }
   ],
   "source": [
    "df1.usb.value_counts()"
   ]
  },
  {
   "cell_type": "code",
   "execution_count": 4,
   "metadata": {},
   "outputs": [
    {
     "name": "stdout",
     "output_type": "stream",
     "text": [
      "<class 'pandas.core.frame.DataFrame'>\n",
      "RangeIndex: 161 entries, 0 to 160\n",
      "Data columns (total 14 columns):\n",
      " #   Column                       Non-Null Count  Dtype   \n",
      "---  ------                       --------------  -----   \n",
      " 0   brand                        161 non-null    category\n",
      " 1   movementDetectionTechnology  161 non-null    category\n",
      " 2   wireless                     161 non-null    bool    \n",
      " 3   usb                          161 non-null    bool    \n",
      " 4   bluetooth                    161 non-null    bool    \n",
      " 5   ergonomic                    161 non-null    bool    \n",
      " 6   portable                     161 non-null    bool    \n",
      " 7   soundless                    161 non-null    bool    \n",
      " 8   led_ligths                   161 non-null    bool    \n",
      " 9   rechargeable                 161 non-null    bool    \n",
      " 10  lightweight                  161 non-null    bool    \n",
      " 11  programmable_button          161 non-null    bool    \n",
      " 12  weight                       161 non-null    float64 \n",
      " 13  price                        161 non-null    float64 \n",
      "dtypes: bool(10), category(2), float64(2)\n",
      "memory usage: 6.1 KB\n"
     ]
    }
   ],
   "source": [
    "df1.info()"
   ]
  },
  {
   "cell_type": "code",
   "execution_count": 15,
   "metadata": {},
   "outputs": [
    {
     "data": {
      "image/png": "[encoded data removed]",
      "text/plain": [
       "<Figure size 640x480 with 1 Axes>"
      ]
     },
     "metadata": {},
     "output_type": "display_data"
    },
    {
     "data": {
      "text/plain": [
       "<ggplot: (8770881336004)>"
      ]
     },
     "execution_count": 15,
     "metadata": {},
     "output_type": "execute_result"
    }
   ],
   "source": [
    "order = df1[\"brand\"].value_counts().index.to_list()\n",
    "\n",
    "p9.ggplot(df1, p9.aes(x='brand', fill = 'wireless')) + \\\n",
    "    p9.geom_bar(stat = 'count') +\\\n",
    "    p9.scale_x_discrete(limits=order) +\\\n",
    "    p9.theme(axis_text_x = p9.element_text(angle=90))"
   ]
  },
  {
   "cell_type": "code",
   "execution_count": 5,
   "metadata": {},
   "outputs": [],
   "source": [
    "def label_all(text):\n",
    "    def label(x):\n",
    "        temp = {'True':'have ' + text,'False':'dont have ' + text}\n",
    "        return temp[x]\n",
    "    return label"
   ]
  },
  {
   "cell_type": "code",
   "execution_count": 6,
   "metadata": {},
   "outputs": [
    {
     "data": {
      "text/plain": [
       "Text(0.5, 1.0, 'price histogram')"
      ]
     },
     "execution_count": 6,
     "metadata": {},
     "output_type": "execute_result"
    },
    {
     "data": {
      "image/png": "[encoded data removed]",
      "text/plain": [
       "<Figure size 640x480 with 1 Axes>"
      ]
     },
     "metadata": {},
     "output_type": "display_data"
    }
   ],
   "source": [
    "df1['price'].hist(bins=25)\n",
    "plt.title('price histogram')"
   ]
  },
  {
   "cell_type": "code",
   "execution_count": 7,
   "metadata": {},
   "outputs": [
    {
     "data": {
      "text/plain": [
       "{'whiskers': [<matplotlib.lines.Line2D at 0x7fe0fa6866d0>,\n",
       "  <matplotlib.lines.Line2D at 0x7fe0fa686970>],\n",
       " 'caps': [<matplotlib.lines.Line2D at 0x7fe0fa686c10>,\n",
       "  <matplotlib.lines.Line2D at 0x7fe0fa686eb0>],\n",
       " 'boxes': [<matplotlib.lines.Line2D at 0x7fe0fa686430>],\n",
       " 'medians': [<matplotlib.lines.Line2D at 0x7fe0fa6a0190>],\n",
       " 'fliers': [<matplotlib.lines.Line2D at 0x7fe0fa6a0430>],\n",
       " 'means': []}"
      ]
     },
     "execution_count": 7,
     "metadata": {},
     "output_type": "execute_result"
    },
    {
     "data": {
      "image/png": "[encoded data removed]",
      "text/plain": [
       "<Figure size 640x480 with 1 Axes>"
      ]
     },
     "metadata": {},
     "output_type": "display_data"
    }
   ],
   "source": [
    "plt.boxplot(df1['price'])"
   ]
  },
  {
   "attachments": {},
   "cell_type": "markdown",
   "metadata": {},
   "source": [
    "making price label:"
   ]
  },
  {
   "cell_type": "code",
   "execution_count": 8,
   "metadata": {},
   "outputs": [],
   "source": [
    "def f(x):\n",
    "    if x < 600:\n",
    "        return 'low'\n",
    "    else:\n",
    "        return 'high'\n",
    "df1['priceCategory'] = df1['price'].apply(lambda x: f(x))\n"
   ]
  },
  {
   "cell_type": "code",
   "execution_count": 19,
   "metadata": {},
   "outputs": [
    {
     "data": {
      "image/png": "[encoded data removed]",
      "text/plain": [
       "<Figure size 640x480 with 1 Axes>"
      ]
     },
     "metadata": {},
     "output_type": "display_data"
    },
    {
     "data": {
      "image/png": "[encoded data removed]",
      "text/plain": [
       "<Figure size 640x480 with 1 Axes>"
      ]
     },
     "metadata": {},
     "output_type": "display_data"
    },
    {
     "data": {
      "text/plain": [
       "<ggplot: (8770887774458)>"
      ]
     },
     "execution_count": 19,
     "metadata": {},
     "output_type": "execute_result"
    }
   ],
   "source": [
    "p1 = (\n",
    "    p9.ggplot(df1, p9.aes(\"programmable_button\", \"price\"))\n",
    "    + p9.geom_boxplot(colour=\"black\", fill=\"#56B4E9\")\n",
    "    + p9.theme(\n",
    "        axis_line_x=p9.element_line(size=2, colour=\"black\"),\n",
    "        axis_line_y=p9.element_line(size=2, colour=\"black\"),\n",
    "        panel_grid_major=p9.element_blank(),\n",
    "        panel_grid_minor=p9.element_blank(),\n",
    "        panel_border=p9.element_blank(),\n",
    "        panel_background=p9.element_blank(),\n",
    "        axis_text_x=p9.element_text(angle=90),\n",
    "        axis_text_y=p9.element_text(colour=\"black\"),\n",
    "    )\n",
    ")\n",
    "p1"
   ]
  },
  {
   "cell_type": "code",
   "execution_count": 20,
   "metadata": {},
   "outputs": [
    {
     "data": {
      "image/png": "[encoded data removed]",
      "text/plain": [
       "<Figure size 640x480 with 1 Axes>"
      ]
     },
     "metadata": {},
     "output_type": "display_data"
    },
    {
     "data": {
      "text/plain": [
       "<ggplot: (8770887843057)>"
      ]
     },
     "execution_count": 20,
     "metadata": {},
     "output_type": "execute_result"
    }
   ],
   "source": [
    "# df1[['usb','wireless','ergonomic','portable','soundless','programmable_button','price']]\n",
    "# sns.pairplot(df1)\n",
    "p10 = (\n",
    "    p9.ggplot(df1, p9.aes(x='weight', y='price', \n",
    "        color = 'programmable_button')) \n",
    "        + p9.geom_point(alpha =0.8)\n",
    ")\n",
    "\n",
    "p10"
   ]
  },
  {
   "cell_type": "code",
   "execution_count": 9,
   "metadata": {},
   "outputs": [],
   "source": [
    "df1.to_csv('clean-mouses.csv')"
   ]
  },
  {
   "attachments": {},
   "cell_type": "markdown",
   "metadata": {},
   "source": [
    "# بخش ششم طبقه بندی"
   ]
  },
  {
   "cell_type": "code",
   "execution_count": 141,
   "metadata": {},
   "outputs": [],
   "source": [
    "import pandas as pd\n",
    "import numpy as np\n",
    "from sklearn.pipeline import make_pipeline\n",
    "from sklearn.model_selection import cross_validate\n",
    "from sklearn.linear_model import LogisticRegression,Perceptron\n",
    "from sklearn.neural_network import MLPClassifier\n",
    "from sklearn.preprocessing import LabelEncoder\n",
    "from sklearn.preprocessing import StandardScaler\n",
    "from sklearn import svm\n",
    "from sklearn.neighbors import KNeighborsClassifier\n",
    "from sklearn import tree\n",
    "from sklearn.ensemble import RandomForestClassifier"
   ]
  },
  {
   "cell_type": "code",
   "execution_count": 28,
   "metadata": {},
   "outputs": [
    {
     "data": {
      "text/html": [
       "<div>\n",
       "<style scoped>\n",
       "    .dataframe tbody tr th:only-of-type {\n",
       "        vertical-align: middle;\n",
       "    }\n",
       "\n",
       "    .dataframe tbody tr th {\n",
       "        vertical-align: top;\n",
       "    }\n",
       "\n",
       "    .dataframe thead th {\n",
       "        text-align: right;\n",
       "    }\n",
       "</style>\n",
       "<table border=\"1\" class=\"dataframe\">\n",
       "  <thead>\n",
       "    <tr style=\"text-align: right;\">\n",
       "      <th></th>\n",
       "      <th>movementDetectionTechnology</th>\n",
       "      <th>wireless</th>\n",
       "      <th>usb</th>\n",
       "      <th>bluetooth</th>\n",
       "      <th>ergonomic</th>\n",
       "      <th>portable</th>\n",
       "      <th>soundless</th>\n",
       "      <th>led_ligths</th>\n",
       "      <th>rechargeable</th>\n",
       "      <th>lightweight</th>\n",
       "      <th>programmable_button</th>\n",
       "      <th>weight</th>\n",
       "    </tr>\n",
       "  </thead>\n",
       "  <tbody>\n",
       "    <tr>\n",
       "      <th>0</th>\n",
       "      <td>optical</td>\n",
       "      <td>False</td>\n",
       "      <td>True</td>\n",
       "      <td>False</td>\n",
       "      <td>False</td>\n",
       "      <td>False</td>\n",
       "      <td>False</td>\n",
       "      <td>False</td>\n",
       "      <td>False</td>\n",
       "      <td>False</td>\n",
       "      <td>False</td>\n",
       "      <td>109.0</td>\n",
       "    </tr>\n",
       "  </tbody>\n",
       "</table>\n",
       "</div>"
      ],
      "text/plain": [
       "  movementDetectionTechnology  wireless   usb  bluetooth  ergonomic  portable  \\\n",
       "0                     optical     False  True      False      False     False   \n",
       "\n",
       "   soundless  led_ligths  rechargeable  lightweight  programmable_button  \\\n",
       "0      False       False         False        False                False   \n",
       "\n",
       "   weight  \n",
       "0   109.0  "
      ]
     },
     "execution_count": 28,
     "metadata": {},
     "output_type": "execute_result"
    }
   ],
   "source": [
    "df1 = pd.read_csv('clean-mouses.csv').drop(['Unnamed: 0','brand','price'],axis=1)\n",
    "df1.sample(5)\n",
    "x = df1.iloc[:,0:-1]\n",
    "y = df1.loc[:,'priceCategory']\n",
    "x.head(1)"
   ]
  },
  {
   "cell_type": "code",
   "execution_count": 29,
   "metadata": {},
   "outputs": [
    {
     "data": {
      "text/html": [
       "<div>\n",
       "<style scoped>\n",
       "    .dataframe tbody tr th:only-of-type {\n",
       "        vertical-align: middle;\n",
       "    }\n",
       "\n",
       "    .dataframe tbody tr th {\n",
       "        vertical-align: top;\n",
       "    }\n",
       "\n",
       "    .dataframe thead th {\n",
       "        text-align: right;\n",
       "    }\n",
       "</style>\n",
       "<table border=\"1\" class=\"dataframe\">\n",
       "  <thead>\n",
       "    <tr style=\"text-align: right;\">\n",
       "      <th></th>\n",
       "      <th>movementDetectionTechnology</th>\n",
       "      <th>wireless</th>\n",
       "      <th>usb</th>\n",
       "      <th>bluetooth</th>\n",
       "      <th>ergonomic</th>\n",
       "      <th>portable</th>\n",
       "      <th>soundless</th>\n",
       "      <th>led_ligths</th>\n",
       "      <th>rechargeable</th>\n",
       "      <th>lightweight</th>\n",
       "      <th>programmable_button</th>\n",
       "      <th>weight</th>\n",
       "    </tr>\n",
       "  </thead>\n",
       "  <tbody>\n",
       "    <tr>\n",
       "      <th>0</th>\n",
       "      <td>1</td>\n",
       "      <td>False</td>\n",
       "      <td>True</td>\n",
       "      <td>False</td>\n",
       "      <td>False</td>\n",
       "      <td>False</td>\n",
       "      <td>False</td>\n",
       "      <td>False</td>\n",
       "      <td>False</td>\n",
       "      <td>False</td>\n",
       "      <td>False</td>\n",
       "      <td>109.0</td>\n",
       "    </tr>\n",
       "    <tr>\n",
       "      <th>1</th>\n",
       "      <td>1</td>\n",
       "      <td>False</td>\n",
       "      <td>True</td>\n",
       "      <td>False</td>\n",
       "      <td>False</td>\n",
       "      <td>False</td>\n",
       "      <td>False</td>\n",
       "      <td>False</td>\n",
       "      <td>False</td>\n",
       "      <td>False</td>\n",
       "      <td>False</td>\n",
       "      <td>90.0</td>\n",
       "    </tr>\n",
       "  </tbody>\n",
       "</table>\n",
       "</div>"
      ],
      "text/plain": [
       "   movementDetectionTechnology  wireless   usb  bluetooth  ergonomic  \\\n",
       "0                            1     False  True      False      False   \n",
       "1                            1     False  True      False      False   \n",
       "\n",
       "   portable  soundless  led_ligths  rechargeable  lightweight  \\\n",
       "0     False      False       False         False        False   \n",
       "1     False      False       False         False        False   \n",
       "\n",
       "   programmable_button  weight  \n",
       "0                False   109.0  \n",
       "1                False    90.0  "
      ]
     },
     "execution_count": 29,
     "metadata": {},
     "output_type": "execute_result"
    }
   ],
   "source": [
    "# x['movementDetectionTechnology']\n",
    "labelEncoderfirst = LabelEncoder()\n",
    "labelEncoderfirst.fit(['optical','laser','optical, laser','trackball','radio frequency'])\n",
    "x['movementDetectionTechnology'] = labelEncoderfirst.transform(x['movementDetectionTechnology'])\n",
    "\n",
    "# labelEncoderlast = LabelEncoder()\n",
    "# labelEncoderlast.fit(['low','high'])\n",
    "# y = labelEncoderlast.transform(y)\n",
    "x.head(2)\n"
   ]
  },
  {
   "cell_type": "code",
   "execution_count": 110,
   "metadata": {},
   "outputs": [],
   "source": [
    "scoring=['accuracy','precision_weighted','recall_weighted','f1_weighted']\n",
    "\n",
    "def mean_scores(scores):\n",
    "    out = {}\n",
    "    for key in scores.keys():\n",
    "        out[key]= np.mean(scores[key])\n",
    "    return out\n",
    "\n",
    "def find_best(result):\n",
    "    acc = 0\n",
    "    index = -1\n",
    "    for idx,r in enumerate(result):\n",
    "        temp = r['test_accuracy']\n",
    "        if temp > acc:\n",
    "            acc = temp\n",
    "            index =idx\n",
    "    return (index,acc)"
   ]
  },
  {
   "attachments": {},
   "cell_type": "markdown",
   "metadata": {},
   "source": [
    "### logistic regression"
   ]
  },
  {
   "cell_type": "code",
   "execution_count": 113,
   "metadata": {},
   "outputs": [
    {
     "name": "stdout",
     "output_type": "stream",
     "text": [
      "best accuracy of logisticregression with 8-hold cross validation is:\n",
      "79.52380952380953 %\n",
      "hyper parameter: c = 0.1\n",
      "------------------------------\n",
      "fit_time  0.028614461421966553\n",
      "score_time  0.026972800493240356\n",
      "test_accuracy  0.7952380952380953\n",
      "test_precision_weighted  0.808770037832538\n",
      "test_recall_weighted  0.7952380952380953\n",
      "test_f1_weighted  0.793228612782052\n"
     ]
    }
   ],
   "source": [
    "hyperparameter = [0.0001,0.001,0.01,0.1,1]\n",
    "result =[]\n",
    "for c in hyperparameter:\n",
    "    clf = make_pipeline(StandardScaler(),LogisticRegression(C=c,solver='liblinear'))\n",
    "    scores = cross_validate(clf,x,y,cv=8,scoring=scoring)\n",
    "    result.append(mean_scores(scores))\n",
    "\n",
    "(index,acc) = find_best(result)\n",
    "print('best accuracy of logisticregression with 8-hold cross validation is:')\n",
    "print(str(acc*100) + ' %')\n",
    "print('hyper parameter: c = '+ str(hyperparameter[index]))\n",
    "print('------------------------------')\n",
    "for key in result[index].keys():\n",
    "    print(key+'  ' + str(result[index][key]))"
   ]
  },
  {
   "attachments": {},
   "cell_type": "markdown",
   "metadata": {},
   "source": [
    "### SVM"
   ]
  },
  {
   "cell_type": "code",
   "execution_count": 124,
   "metadata": {},
   "outputs": [
    {
     "name": "stderr",
     "output_type": "stream",
     "text": [
      "/opt/anaconda3/lib/python3.8/site-packages/sklearn/metrics/_classification.py:1245: UndefinedMetricWarning: Precision is ill-defined and being set to 0.0 in labels with no predicted samples. Use `zero_division` parameter to control this behavior.\n",
      "  _warn_prf(average, modifier, msg_start, len(result))\n",
      "/opt/anaconda3/lib/python3.8/site-packages/sklearn/metrics/_classification.py:1245: UndefinedMetricWarning: Precision is ill-defined and being set to 0.0 in labels with no predicted samples. Use `zero_division` parameter to control this behavior.\n",
      "  _warn_prf(average, modifier, msg_start, len(result))\n",
      "/opt/anaconda3/lib/python3.8/site-packages/sklearn/metrics/_classification.py:1245: UndefinedMetricWarning: Precision is ill-defined and being set to 0.0 in labels with no predicted samples. Use `zero_division` parameter to control this behavior.\n",
      "  _warn_prf(average, modifier, msg_start, len(result))\n",
      "/opt/anaconda3/lib/python3.8/site-packages/sklearn/metrics/_classification.py:1245: UndefinedMetricWarning: Precision is ill-defined and being set to 0.0 in labels with no predicted samples. Use `zero_division` parameter to control this behavior.\n",
      "  _warn_prf(average, modifier, msg_start, len(result))\n",
      "/opt/anaconda3/lib/python3.8/site-packages/sklearn/metrics/_classification.py:1245: UndefinedMetricWarning: Precision is ill-defined and being set to 0.0 in labels with no predicted samples. Use `zero_division` parameter to control this behavior.\n",
      "  _warn_prf(average, modifier, msg_start, len(result))\n",
      "/opt/anaconda3/lib/python3.8/site-packages/sklearn/metrics/_classification.py:1245: UndefinedMetricWarning: Precision is ill-defined and being set to 0.0 in labels with no predicted samples. Use `zero_division` parameter to control this behavior.\n",
      "  _warn_prf(average, modifier, msg_start, len(result))\n",
      "/opt/anaconda3/lib/python3.8/site-packages/sklearn/metrics/_classification.py:1245: UndefinedMetricWarning: Precision is ill-defined and being set to 0.0 in labels with no predicted samples. Use `zero_division` parameter to control this behavior.\n",
      "  _warn_prf(average, modifier, msg_start, len(result))\n",
      "/opt/anaconda3/lib/python3.8/site-packages/sklearn/metrics/_classification.py:1245: UndefinedMetricWarning: Precision is ill-defined and being set to 0.0 in labels with no predicted samples. Use `zero_division` parameter to control this behavior.\n",
      "  _warn_prf(average, modifier, msg_start, len(result))\n",
      "/opt/anaconda3/lib/python3.8/site-packages/sklearn/metrics/_classification.py:1245: UndefinedMetricWarning: Precision is ill-defined and being set to 0.0 in labels with no predicted samples. Use `zero_division` parameter to control this behavior.\n",
      "  _warn_prf(average, modifier, msg_start, len(result))\n",
      "/opt/anaconda3/lib/python3.8/site-packages/sklearn/metrics/_classification.py:1245: UndefinedMetricWarning: Precision is ill-defined and being set to 0.0 in labels with no predicted samples. Use `zero_division` parameter to control this behavior.\n",
      "  _warn_prf(average, modifier, msg_start, len(result))\n",
      "/opt/anaconda3/lib/python3.8/site-packages/sklearn/metrics/_classification.py:1245: UndefinedMetricWarning: Precision is ill-defined and being set to 0.0 in labels with no predicted samples. Use `zero_division` parameter to control this behavior.\n",
      "  _warn_prf(average, modifier, msg_start, len(result))\n",
      "/opt/anaconda3/lib/python3.8/site-packages/sklearn/metrics/_classification.py:1245: UndefinedMetricWarning: Precision is ill-defined and being set to 0.0 in labels with no predicted samples. Use `zero_division` parameter to control this behavior.\n",
      "  _warn_prf(average, modifier, msg_start, len(result))\n",
      "/opt/anaconda3/lib/python3.8/site-packages/sklearn/metrics/_classification.py:1245: UndefinedMetricWarning: Precision is ill-defined and being set to 0.0 in labels with no predicted samples. Use `zero_division` parameter to control this behavior.\n",
      "  _warn_prf(average, modifier, msg_start, len(result))\n",
      "/opt/anaconda3/lib/python3.8/site-packages/sklearn/metrics/_classification.py:1245: UndefinedMetricWarning: Precision is ill-defined and being set to 0.0 in labels with no predicted samples. Use `zero_division` parameter to control this behavior.\n",
      "  _warn_prf(average, modifier, msg_start, len(result))\n",
      "/opt/anaconda3/lib/python3.8/site-packages/sklearn/metrics/_classification.py:1245: UndefinedMetricWarning: Precision is ill-defined and being set to 0.0 in labels with no predicted samples. Use `zero_division` parameter to control this behavior.\n",
      "  _warn_prf(average, modifier, msg_start, len(result))\n",
      "/opt/anaconda3/lib/python3.8/site-packages/sklearn/metrics/_classification.py:1245: UndefinedMetricWarning: Precision is ill-defined and being set to 0.0 in labels with no predicted samples. Use `zero_division` parameter to control this behavior.\n",
      "  _warn_prf(average, modifier, msg_start, len(result))\n",
      "/opt/anaconda3/lib/python3.8/site-packages/sklearn/metrics/_classification.py:1245: UndefinedMetricWarning: Precision is ill-defined and being set to 0.0 in labels with no predicted samples. Use `zero_division` parameter to control this behavior.\n",
      "  _warn_prf(average, modifier, msg_start, len(result))\n",
      "/opt/anaconda3/lib/python3.8/site-packages/sklearn/metrics/_classification.py:1245: UndefinedMetricWarning: Precision is ill-defined and being set to 0.0 in labels with no predicted samples. Use `zero_division` parameter to control this behavior.\n",
      "  _warn_prf(average, modifier, msg_start, len(result))\n",
      "/opt/anaconda3/lib/python3.8/site-packages/sklearn/metrics/_classification.py:1245: UndefinedMetricWarning: Precision is ill-defined and being set to 0.0 in labels with no predicted samples. Use `zero_division` parameter to control this behavior.\n",
      "  _warn_prf(average, modifier, msg_start, len(result))\n",
      "/opt/anaconda3/lib/python3.8/site-packages/sklearn/metrics/_classification.py:1245: UndefinedMetricWarning: Precision is ill-defined and being set to 0.0 in labels with no predicted samples. Use `zero_division` parameter to control this behavior.\n",
      "  _warn_prf(average, modifier, msg_start, len(result))\n",
      "/opt/anaconda3/lib/python3.8/site-packages/sklearn/metrics/_classification.py:1245: UndefinedMetricWarning: Precision is ill-defined and being set to 0.0 in labels with no predicted samples. Use `zero_division` parameter to control this behavior.\n",
      "  _warn_prf(average, modifier, msg_start, len(result))\n",
      "/opt/anaconda3/lib/python3.8/site-packages/sklearn/metrics/_classification.py:1245: UndefinedMetricWarning: Precision is ill-defined and being set to 0.0 in labels with no predicted samples. Use `zero_division` parameter to control this behavior.\n",
      "  _warn_prf(average, modifier, msg_start, len(result))\n",
      "/opt/anaconda3/lib/python3.8/site-packages/sklearn/metrics/_classification.py:1245: UndefinedMetricWarning: Precision is ill-defined and being set to 0.0 in labels with no predicted samples. Use `zero_division` parameter to control this behavior.\n",
      "  _warn_prf(average, modifier, msg_start, len(result))\n",
      "/opt/anaconda3/lib/python3.8/site-packages/sklearn/metrics/_classification.py:1245: UndefinedMetricWarning: Precision is ill-defined and being set to 0.0 in labels with no predicted samples. Use `zero_division` parameter to control this behavior.\n",
      "  _warn_prf(average, modifier, msg_start, len(result))\n",
      "/opt/anaconda3/lib/python3.8/site-packages/sklearn/metrics/_classification.py:1245: UndefinedMetricWarning: Precision is ill-defined and being set to 0.0 in labels with no predicted samples. Use `zero_division` parameter to control this behavior.\n",
      "  _warn_prf(average, modifier, msg_start, len(result))\n",
      "/opt/anaconda3/lib/python3.8/site-packages/sklearn/metrics/_classification.py:1245: UndefinedMetricWarning: Precision is ill-defined and being set to 0.0 in labels with no predicted samples. Use `zero_division` parameter to control this behavior.\n",
      "  _warn_prf(average, modifier, msg_start, len(result))\n",
      "/opt/anaconda3/lib/python3.8/site-packages/sklearn/metrics/_classification.py:1245: UndefinedMetricWarning: Precision is ill-defined and being set to 0.0 in labels with no predicted samples. Use `zero_division` parameter to control this behavior.\n",
      "  _warn_prf(average, modifier, msg_start, len(result))\n",
      "/opt/anaconda3/lib/python3.8/site-packages/sklearn/metrics/_classification.py:1245: UndefinedMetricWarning: Precision is ill-defined and being set to 0.0 in labels with no predicted samples. Use `zero_division` parameter to control this behavior.\n",
      "  _warn_prf(average, modifier, msg_start, len(result))\n",
      "/opt/anaconda3/lib/python3.8/site-packages/sklearn/metrics/_classification.py:1245: UndefinedMetricWarning: Precision is ill-defined and being set to 0.0 in labels with no predicted samples. Use `zero_division` parameter to control this behavior.\n",
      "  _warn_prf(average, modifier, msg_start, len(result))\n",
      "/opt/anaconda3/lib/python3.8/site-packages/sklearn/metrics/_classification.py:1245: UndefinedMetricWarning: Precision is ill-defined and being set to 0.0 in labels with no predicted samples. Use `zero_division` parameter to control this behavior.\n",
      "  _warn_prf(average, modifier, msg_start, len(result))\n",
      "/opt/anaconda3/lib/python3.8/site-packages/sklearn/metrics/_classification.py:1245: UndefinedMetricWarning: Precision is ill-defined and being set to 0.0 in labels with no predicted samples. Use `zero_division` parameter to control this behavior.\n",
      "  _warn_prf(average, modifier, msg_start, len(result))\n",
      "/opt/anaconda3/lib/python3.8/site-packages/sklearn/metrics/_classification.py:1245: UndefinedMetricWarning: Precision is ill-defined and being set to 0.0 in labels with no predicted samples. Use `zero_division` parameter to control this behavior.\n",
      "  _warn_prf(average, modifier, msg_start, len(result))\n",
      "/opt/anaconda3/lib/python3.8/site-packages/sklearn/metrics/_classification.py:1245: UndefinedMetricWarning: Precision is ill-defined and being set to 0.0 in labels with no predicted samples. Use `zero_division` parameter to control this behavior.\n",
      "  _warn_prf(average, modifier, msg_start, len(result))\n",
      "/opt/anaconda3/lib/python3.8/site-packages/sklearn/metrics/_classification.py:1245: UndefinedMetricWarning: Precision is ill-defined and being set to 0.0 in labels with no predicted samples. Use `zero_division` parameter to control this behavior.\n",
      "  _warn_prf(average, modifier, msg_start, len(result))\n",
      "/opt/anaconda3/lib/python3.8/site-packages/sklearn/metrics/_classification.py:1245: UndefinedMetricWarning: Precision is ill-defined and being set to 0.0 in labels with no predicted samples. Use `zero_division` parameter to control this behavior.\n",
      "  _warn_prf(average, modifier, msg_start, len(result))\n",
      "/opt/anaconda3/lib/python3.8/site-packages/sklearn/metrics/_classification.py:1245: UndefinedMetricWarning: Precision is ill-defined and being set to 0.0 in labels with no predicted samples. Use `zero_division` parameter to control this behavior.\n",
      "  _warn_prf(average, modifier, msg_start, len(result))\n",
      "/opt/anaconda3/lib/python3.8/site-packages/sklearn/metrics/_classification.py:1245: UndefinedMetricWarning: Precision is ill-defined and being set to 0.0 in labels with no predicted samples. Use `zero_division` parameter to control this behavior.\n",
      "  _warn_prf(average, modifier, msg_start, len(result))\n",
      "/opt/anaconda3/lib/python3.8/site-packages/sklearn/metrics/_classification.py:1245: UndefinedMetricWarning: Precision is ill-defined and being set to 0.0 in labels with no predicted samples. Use `zero_division` parameter to control this behavior.\n",
      "  _warn_prf(average, modifier, msg_start, len(result))\n",
      "/opt/anaconda3/lib/python3.8/site-packages/sklearn/metrics/_classification.py:1245: UndefinedMetricWarning: Precision is ill-defined and being set to 0.0 in labels with no predicted samples. Use `zero_division` parameter to control this behavior.\n",
      "  _warn_prf(average, modifier, msg_start, len(result))\n",
      "/opt/anaconda3/lib/python3.8/site-packages/sklearn/metrics/_classification.py:1245: UndefinedMetricWarning: Precision is ill-defined and being set to 0.0 in labels with no predicted samples. Use `zero_division` parameter to control this behavior.\n",
      "  _warn_prf(average, modifier, msg_start, len(result))\n",
      "/opt/anaconda3/lib/python3.8/site-packages/sklearn/metrics/_classification.py:1245: UndefinedMetricWarning: Precision is ill-defined and being set to 0.0 in labels with no predicted samples. Use `zero_division` parameter to control this behavior.\n",
      "  _warn_prf(average, modifier, msg_start, len(result))\n",
      "/opt/anaconda3/lib/python3.8/site-packages/sklearn/metrics/_classification.py:1245: UndefinedMetricWarning: Precision is ill-defined and being set to 0.0 in labels with no predicted samples. Use `zero_division` parameter to control this behavior.\n",
      "  _warn_prf(average, modifier, msg_start, len(result))\n",
      "/opt/anaconda3/lib/python3.8/site-packages/sklearn/metrics/_classification.py:1245: UndefinedMetricWarning: Precision is ill-defined and being set to 0.0 in labels with no predicted samples. Use `zero_division` parameter to control this behavior.\n",
      "  _warn_prf(average, modifier, msg_start, len(result))\n",
      "/opt/anaconda3/lib/python3.8/site-packages/sklearn/metrics/_classification.py:1245: UndefinedMetricWarning: Precision is ill-defined and being set to 0.0 in labels with no predicted samples. Use `zero_division` parameter to control this behavior.\n",
      "  _warn_prf(average, modifier, msg_start, len(result))\n",
      "/opt/anaconda3/lib/python3.8/site-packages/sklearn/metrics/_classification.py:1245: UndefinedMetricWarning: Precision is ill-defined and being set to 0.0 in labels with no predicted samples. Use `zero_division` parameter to control this behavior.\n",
      "  _warn_prf(average, modifier, msg_start, len(result))\n",
      "/opt/anaconda3/lib/python3.8/site-packages/sklearn/metrics/_classification.py:1245: UndefinedMetricWarning: Precision is ill-defined and being set to 0.0 in labels with no predicted samples. Use `zero_division` parameter to control this behavior.\n",
      "  _warn_prf(average, modifier, msg_start, len(result))\n",
      "/opt/anaconda3/lib/python3.8/site-packages/sklearn/metrics/_classification.py:1245: UndefinedMetricWarning: Precision is ill-defined and being set to 0.0 in labels with no predicted samples. Use `zero_division` parameter to control this behavior.\n",
      "  _warn_prf(average, modifier, msg_start, len(result))\n",
      "/opt/anaconda3/lib/python3.8/site-packages/sklearn/metrics/_classification.py:1245: UndefinedMetricWarning: Precision is ill-defined and being set to 0.0 in labels with no predicted samples. Use `zero_division` parameter to control this behavior.\n",
      "  _warn_prf(average, modifier, msg_start, len(result))\n",
      "/opt/anaconda3/lib/python3.8/site-packages/sklearn/metrics/_classification.py:1245: UndefinedMetricWarning: Precision is ill-defined and being set to 0.0 in labels with no predicted samples. Use `zero_division` parameter to control this behavior.\n",
      "  _warn_prf(average, modifier, msg_start, len(result))\n",
      "/opt/anaconda3/lib/python3.8/site-packages/sklearn/metrics/_classification.py:1245: UndefinedMetricWarning: Precision is ill-defined and being set to 0.0 in labels with no predicted samples. Use `zero_division` parameter to control this behavior.\n",
      "  _warn_prf(average, modifier, msg_start, len(result))\n",
      "/opt/anaconda3/lib/python3.8/site-packages/sklearn/metrics/_classification.py:1245: UndefinedMetricWarning: Precision is ill-defined and being set to 0.0 in labels with no predicted samples. Use `zero_division` parameter to control this behavior.\n",
      "  _warn_prf(average, modifier, msg_start, len(result))\n",
      "/opt/anaconda3/lib/python3.8/site-packages/sklearn/metrics/_classification.py:1245: UndefinedMetricWarning: Precision is ill-defined and being set to 0.0 in labels with no predicted samples. Use `zero_division` parameter to control this behavior.\n",
      "  _warn_prf(average, modifier, msg_start, len(result))\n",
      "/opt/anaconda3/lib/python3.8/site-packages/sklearn/metrics/_classification.py:1245: UndefinedMetricWarning: Precision is ill-defined and being set to 0.0 in labels with no predicted samples. Use `zero_division` parameter to control this behavior.\n",
      "  _warn_prf(average, modifier, msg_start, len(result))\n",
      "/opt/anaconda3/lib/python3.8/site-packages/sklearn/metrics/_classification.py:1245: UndefinedMetricWarning: Precision is ill-defined and being set to 0.0 in labels with no predicted samples. Use `zero_division` parameter to control this behavior.\n",
      "  _warn_prf(average, modifier, msg_start, len(result))\n",
      "/opt/anaconda3/lib/python3.8/site-packages/sklearn/metrics/_classification.py:1245: UndefinedMetricWarning: Precision is ill-defined and being set to 0.0 in labels with no predicted samples. Use `zero_division` parameter to control this behavior.\n",
      "  _warn_prf(average, modifier, msg_start, len(result))\n",
      "/opt/anaconda3/lib/python3.8/site-packages/sklearn/metrics/_classification.py:1245: UndefinedMetricWarning: Precision is ill-defined and being set to 0.0 in labels with no predicted samples. Use `zero_division` parameter to control this behavior.\n",
      "  _warn_prf(average, modifier, msg_start, len(result))\n",
      "/opt/anaconda3/lib/python3.8/site-packages/sklearn/metrics/_classification.py:1245: UndefinedMetricWarning: Precision is ill-defined and being set to 0.0 in labels with no predicted samples. Use `zero_division` parameter to control this behavior.\n",
      "  _warn_prf(average, modifier, msg_start, len(result))\n",
      "/opt/anaconda3/lib/python3.8/site-packages/sklearn/metrics/_classification.py:1245: UndefinedMetricWarning: Precision is ill-defined and being set to 0.0 in labels with no predicted samples. Use `zero_division` parameter to control this behavior.\n",
      "  _warn_prf(average, modifier, msg_start, len(result))\n",
      "/opt/anaconda3/lib/python3.8/site-packages/sklearn/metrics/_classification.py:1245: UndefinedMetricWarning: Precision is ill-defined and being set to 0.0 in labels with no predicted samples. Use `zero_division` parameter to control this behavior.\n",
      "  _warn_prf(average, modifier, msg_start, len(result))\n",
      "/opt/anaconda3/lib/python3.8/site-packages/sklearn/metrics/_classification.py:1245: UndefinedMetricWarning: Precision is ill-defined and being set to 0.0 in labels with no predicted samples. Use `zero_division` parameter to control this behavior.\n",
      "  _warn_prf(average, modifier, msg_start, len(result))\n",
      "/opt/anaconda3/lib/python3.8/site-packages/sklearn/metrics/_classification.py:1245: UndefinedMetricWarning: Precision is ill-defined and being set to 0.0 in labels with no predicted samples. Use `zero_division` parameter to control this behavior.\n",
      "  _warn_prf(average, modifier, msg_start, len(result))\n",
      "/opt/anaconda3/lib/python3.8/site-packages/sklearn/metrics/_classification.py:1245: UndefinedMetricWarning: Precision is ill-defined and being set to 0.0 in labels with no predicted samples. Use `zero_division` parameter to control this behavior.\n",
      "  _warn_prf(average, modifier, msg_start, len(result))\n",
      "/opt/anaconda3/lib/python3.8/site-packages/sklearn/metrics/_classification.py:1245: UndefinedMetricWarning: Precision is ill-defined and being set to 0.0 in labels with no predicted samples. Use `zero_division` parameter to control this behavior.\n",
      "  _warn_prf(average, modifier, msg_start, len(result))\n",
      "/opt/anaconda3/lib/python3.8/site-packages/sklearn/metrics/_classification.py:1245: UndefinedMetricWarning: Precision is ill-defined and being set to 0.0 in labels with no predicted samples. Use `zero_division` parameter to control this behavior.\n",
      "  _warn_prf(average, modifier, msg_start, len(result))\n",
      "/opt/anaconda3/lib/python3.8/site-packages/sklearn/metrics/_classification.py:1245: UndefinedMetricWarning: Precision is ill-defined and being set to 0.0 in labels with no predicted samples. Use `zero_division` parameter to control this behavior.\n",
      "  _warn_prf(average, modifier, msg_start, len(result))\n",
      "/opt/anaconda3/lib/python3.8/site-packages/sklearn/metrics/_classification.py:1245: UndefinedMetricWarning: Precision is ill-defined and being set to 0.0 in labels with no predicted samples. Use `zero_division` parameter to control this behavior.\n",
      "  _warn_prf(average, modifier, msg_start, len(result))\n",
      "/opt/anaconda3/lib/python3.8/site-packages/sklearn/metrics/_classification.py:1245: UndefinedMetricWarning: Precision is ill-defined and being set to 0.0 in labels with no predicted samples. Use `zero_division` parameter to control this behavior.\n",
      "  _warn_prf(average, modifier, msg_start, len(result))\n",
      "/opt/anaconda3/lib/python3.8/site-packages/sklearn/metrics/_classification.py:1245: UndefinedMetricWarning: Precision is ill-defined and being set to 0.0 in labels with no predicted samples. Use `zero_division` parameter to control this behavior.\n",
      "  _warn_prf(average, modifier, msg_start, len(result))\n",
      "/opt/anaconda3/lib/python3.8/site-packages/sklearn/metrics/_classification.py:1245: UndefinedMetricWarning: Precision is ill-defined and being set to 0.0 in labels with no predicted samples. Use `zero_division` parameter to control this behavior.\n",
      "  _warn_prf(average, modifier, msg_start, len(result))\n",
      "/opt/anaconda3/lib/python3.8/site-packages/sklearn/metrics/_classification.py:1245: UndefinedMetricWarning: Precision is ill-defined and being set to 0.0 in labels with no predicted samples. Use `zero_division` parameter to control this behavior.\n",
      "  _warn_prf(average, modifier, msg_start, len(result))\n",
      "/opt/anaconda3/lib/python3.8/site-packages/sklearn/metrics/_classification.py:1245: UndefinedMetricWarning: Precision is ill-defined and being set to 0.0 in labels with no predicted samples. Use `zero_division` parameter to control this behavior.\n",
      "  _warn_prf(average, modifier, msg_start, len(result))\n",
      "/opt/anaconda3/lib/python3.8/site-packages/sklearn/metrics/_classification.py:1245: UndefinedMetricWarning: Precision is ill-defined and being set to 0.0 in labels with no predicted samples. Use `zero_division` parameter to control this behavior.\n",
      "  _warn_prf(average, modifier, msg_start, len(result))\n",
      "/opt/anaconda3/lib/python3.8/site-packages/sklearn/metrics/_classification.py:1245: UndefinedMetricWarning: Precision is ill-defined and being set to 0.0 in labels with no predicted samples. Use `zero_division` parameter to control this behavior.\n",
      "  _warn_prf(average, modifier, msg_start, len(result))\n",
      "/opt/anaconda3/lib/python3.8/site-packages/sklearn/metrics/_classification.py:1245: UndefinedMetricWarning: Precision is ill-defined and being set to 0.0 in labels with no predicted samples. Use `zero_division` parameter to control this behavior.\n",
      "  _warn_prf(average, modifier, msg_start, len(result))\n",
      "/opt/anaconda3/lib/python3.8/site-packages/sklearn/metrics/_classification.py:1245: UndefinedMetricWarning: Precision is ill-defined and being set to 0.0 in labels with no predicted samples. Use `zero_division` parameter to control this behavior.\n",
      "  _warn_prf(average, modifier, msg_start, len(result))\n",
      "/opt/anaconda3/lib/python3.8/site-packages/sklearn/metrics/_classification.py:1245: UndefinedMetricWarning: Precision is ill-defined and being set to 0.0 in labels with no predicted samples. Use `zero_division` parameter to control this behavior.\n",
      "  _warn_prf(average, modifier, msg_start, len(result))\n",
      "/opt/anaconda3/lib/python3.8/site-packages/sklearn/metrics/_classification.py:1245: UndefinedMetricWarning: Precision is ill-defined and being set to 0.0 in labels with no predicted samples. Use `zero_division` parameter to control this behavior.\n",
      "  _warn_prf(average, modifier, msg_start, len(result))\n",
      "/opt/anaconda3/lib/python3.8/site-packages/sklearn/metrics/_classification.py:1245: UndefinedMetricWarning: Precision is ill-defined and being set to 0.0 in labels with no predicted samples. Use `zero_division` parameter to control this behavior.\n",
      "  _warn_prf(average, modifier, msg_start, len(result))\n",
      "/opt/anaconda3/lib/python3.8/site-packages/sklearn/metrics/_classification.py:1245: UndefinedMetricWarning: Precision is ill-defined and being set to 0.0 in labels with no predicted samples. Use `zero_division` parameter to control this behavior.\n",
      "  _warn_prf(average, modifier, msg_start, len(result))\n",
      "/opt/anaconda3/lib/python3.8/site-packages/sklearn/metrics/_classification.py:1245: UndefinedMetricWarning: Precision is ill-defined and being set to 0.0 in labels with no predicted samples. Use `zero_division` parameter to control this behavior.\n",
      "  _warn_prf(average, modifier, msg_start, len(result))\n",
      "/opt/anaconda3/lib/python3.8/site-packages/sklearn/metrics/_classification.py:1245: UndefinedMetricWarning: Precision is ill-defined and being set to 0.0 in labels with no predicted samples. Use `zero_division` parameter to control this behavior.\n",
      "  _warn_prf(average, modifier, msg_start, len(result))\n",
      "/opt/anaconda3/lib/python3.8/site-packages/sklearn/metrics/_classification.py:1245: UndefinedMetricWarning: Precision is ill-defined and being set to 0.0 in labels with no predicted samples. Use `zero_division` parameter to control this behavior.\n",
      "  _warn_prf(average, modifier, msg_start, len(result))\n",
      "/opt/anaconda3/lib/python3.8/site-packages/sklearn/metrics/_classification.py:1245: UndefinedMetricWarning: Precision is ill-defined and being set to 0.0 in labels with no predicted samples. Use `zero_division` parameter to control this behavior.\n",
      "  _warn_prf(average, modifier, msg_start, len(result))\n",
      "/opt/anaconda3/lib/python3.8/site-packages/sklearn/metrics/_classification.py:1245: UndefinedMetricWarning: Precision is ill-defined and being set to 0.0 in labels with no predicted samples. Use `zero_division` parameter to control this behavior.\n",
      "  _warn_prf(average, modifier, msg_start, len(result))\n",
      "/opt/anaconda3/lib/python3.8/site-packages/sklearn/metrics/_classification.py:1245: UndefinedMetricWarning: Precision is ill-defined and being set to 0.0 in labels with no predicted samples. Use `zero_division` parameter to control this behavior.\n",
      "  _warn_prf(average, modifier, msg_start, len(result))\n",
      "/opt/anaconda3/lib/python3.8/site-packages/sklearn/metrics/_classification.py:1245: UndefinedMetricWarning: Precision is ill-defined and being set to 0.0 in labels with no predicted samples. Use `zero_division` parameter to control this behavior.\n",
      "  _warn_prf(average, modifier, msg_start, len(result))\n",
      "/opt/anaconda3/lib/python3.8/site-packages/sklearn/metrics/_classification.py:1245: UndefinedMetricWarning: Precision is ill-defined and being set to 0.0 in labels with no predicted samples. Use `zero_division` parameter to control this behavior.\n",
      "  _warn_prf(average, modifier, msg_start, len(result))\n",
      "/opt/anaconda3/lib/python3.8/site-packages/sklearn/metrics/_classification.py:1245: UndefinedMetricWarning: Precision is ill-defined and being set to 0.0 in labels with no predicted samples. Use `zero_division` parameter to control this behavior.\n",
      "  _warn_prf(average, modifier, msg_start, len(result))\n",
      "/opt/anaconda3/lib/python3.8/site-packages/sklearn/metrics/_classification.py:1245: UndefinedMetricWarning: Precision is ill-defined and being set to 0.0 in labels with no predicted samples. Use `zero_division` parameter to control this behavior.\n",
      "  _warn_prf(average, modifier, msg_start, len(result))\n",
      "/opt/anaconda3/lib/python3.8/site-packages/sklearn/metrics/_classification.py:1245: UndefinedMetricWarning: Precision is ill-defined and being set to 0.0 in labels with no predicted samples. Use `zero_division` parameter to control this behavior.\n",
      "  _warn_prf(average, modifier, msg_start, len(result))\n",
      "/opt/anaconda3/lib/python3.8/site-packages/sklearn/metrics/_classification.py:1245: UndefinedMetricWarning: Precision is ill-defined and being set to 0.0 in labels with no predicted samples. Use `zero_division` parameter to control this behavior.\n",
      "  _warn_prf(average, modifier, msg_start, len(result))\n",
      "/opt/anaconda3/lib/python3.8/site-packages/sklearn/metrics/_classification.py:1245: UndefinedMetricWarning: Precision is ill-defined and being set to 0.0 in labels with no predicted samples. Use `zero_division` parameter to control this behavior.\n",
      "  _warn_prf(average, modifier, msg_start, len(result))\n",
      "/opt/anaconda3/lib/python3.8/site-packages/sklearn/metrics/_classification.py:1245: UndefinedMetricWarning: Precision is ill-defined and being set to 0.0 in labels with no predicted samples. Use `zero_division` parameter to control this behavior.\n",
      "  _warn_prf(average, modifier, msg_start, len(result))\n",
      "/opt/anaconda3/lib/python3.8/site-packages/sklearn/metrics/_classification.py:1245: UndefinedMetricWarning: Precision is ill-defined and being set to 0.0 in labels with no predicted samples. Use `zero_division` parameter to control this behavior.\n",
      "  _warn_prf(average, modifier, msg_start, len(result))\n",
      "/opt/anaconda3/lib/python3.8/site-packages/sklearn/metrics/_classification.py:1245: UndefinedMetricWarning: Precision is ill-defined and being set to 0.0 in labels with no predicted samples. Use `zero_division` parameter to control this behavior.\n",
      "  _warn_prf(average, modifier, msg_start, len(result))\n",
      "/opt/anaconda3/lib/python3.8/site-packages/sklearn/metrics/_classification.py:1245: UndefinedMetricWarning: Precision is ill-defined and being set to 0.0 in labels with no predicted samples. Use `zero_division` parameter to control this behavior.\n",
      "  _warn_prf(average, modifier, msg_start, len(result))\n",
      "/opt/anaconda3/lib/python3.8/site-packages/sklearn/metrics/_classification.py:1245: UndefinedMetricWarning: Precision is ill-defined and being set to 0.0 in labels with no predicted samples. Use `zero_division` parameter to control this behavior.\n",
      "  _warn_prf(average, modifier, msg_start, len(result))\n",
      "/opt/anaconda3/lib/python3.8/site-packages/sklearn/metrics/_classification.py:1245: UndefinedMetricWarning: Precision is ill-defined and being set to 0.0 in labels with no predicted samples. Use `zero_division` parameter to control this behavior.\n",
      "  _warn_prf(average, modifier, msg_start, len(result))\n",
      "/opt/anaconda3/lib/python3.8/site-packages/sklearn/metrics/_classification.py:1245: UndefinedMetricWarning: Precision is ill-defined and being set to 0.0 in labels with no predicted samples. Use `zero_division` parameter to control this behavior.\n",
      "  _warn_prf(average, modifier, msg_start, len(result))\n",
      "/opt/anaconda3/lib/python3.8/site-packages/sklearn/metrics/_classification.py:1245: UndefinedMetricWarning: Precision is ill-defined and being set to 0.0 in labels with no predicted samples. Use `zero_division` parameter to control this behavior.\n",
      "  _warn_prf(average, modifier, msg_start, len(result))\n"
     ]
    },
    {
     "name": "stdout",
     "output_type": "stream",
     "text": [
      "best accuracy of svm with 8-hold cross validation is:\n",
      "77.64880952380952 %\n",
      "hyper parameter: c = 1\n",
      "hyper parameter: kernel = linear\n",
      "------------------------------\n",
      "fit_time  0.8237262070178986\n",
      "score_time  0.016640156507492065\n",
      "test_accuracy  0.7764880952380953\n",
      "test_precision_weighted  0.8177944624819624\n",
      "test_recall_weighted  0.7764880952380953\n",
      "test_f1_weighted  0.7682338494838494\n"
     ]
    }
   ],
   "source": [
    "hyperparameter = [0.0001,0.001,0.01,0.1,1]\n",
    "kernel = ['linear', 'poly', 'rbf', 'sigmoid']\n",
    "result =[]\n",
    "for k in kernel:\n",
    "    for c in hyperparameter:\n",
    "        clf = make_pipeline(svm.SVC(C=c,kernel=k))\n",
    "        scores = cross_validate(clf,x,y,cv=8,scoring=scoring)\n",
    "        result.append(mean_scores(scores))\n",
    "\n",
    "(index,acc) = find_best(result)\n",
    "\n",
    "print('best accuracy of svm with 8-hold cross validation is:')\n",
    "print(str(acc*100) + ' %')\n",
    "print('hyper parameter: c = '+ str(hyperparameter[int(index%len(hyperparameter))]))\n",
    "print('hyper parameter: kernel = '+ kernel[int(np.floor(index/len(hyperparameter)))])\n",
    "\n",
    "print('------------------------------')\n",
    "for key in result[index].keys():\n",
    "    print(key+'  ' + str(result[index][key]))"
   ]
  },
  {
   "attachments": {},
   "cell_type": "markdown",
   "metadata": {},
   "source": [
    "### decision tree"
   ]
  },
  {
   "cell_type": "code",
   "execution_count": 132,
   "metadata": {},
   "outputs": [
    {
     "name": "stdout",
     "output_type": "stream",
     "text": [
      "best accuracy of decision tree with 8-hold cross validation is:\n",
      "78.86904761904762 %\n",
      "hyper parameter: max depth = 12\n",
      "------------------------------\n",
      "fit_time  0.013138800859451294\n",
      "score_time  0.013396143913269043\n",
      "test_accuracy  0.7886904761904762\n",
      "test_precision_weighted  0.8041215959965959\n",
      "test_recall_weighted  0.7886904761904762\n",
      "test_f1_weighted  0.7835983874558423\n"
     ]
    }
   ],
   "source": [
    "hyperparameter = [5,6,7,8,9,10,11,12,13,14,15,16]\n",
    "result =[]\n",
    "for c in hyperparameter:\n",
    "    clf = make_pipeline(StandardScaler(),tree.DecisionTreeClassifier(criterion=\"entropy\",max_depth=c))\n",
    "    scores = cross_validate(clf,x,y,cv=8,scoring=scoring)\n",
    "    result.append(mean_scores(scores))\n",
    "\n",
    "(index,acc) = find_best(result)\n",
    "print('best accuracy of decision tree with 8-hold cross validation is:')\n",
    "print(str(acc*100) + ' %')\n",
    "print('hyper parameter: max depth = '+ str(hyperparameter[index]))\n",
    "print('------------------------------')\n",
    "for key in result[index].keys():\n",
    "    print(key+'  ' + str(result[index][key]))"
   ]
  },
  {
   "attachments": {},
   "cell_type": "markdown",
   "metadata": {},
   "source": [
    "### KNN"
   ]
  },
  {
   "cell_type": "code",
   "execution_count": 135,
   "metadata": {},
   "outputs": [
    {
     "name": "stdout",
     "output_type": "stream",
     "text": [
      "best accuracy of KNN with 8-hold cross validation is:\n",
      "83.18452380952381 %\n",
      "hyper parameter: n_neighbors = 1\n",
      "------------------------------\n",
      "fit_time  0.016671031713485718\n",
      "score_time  0.021292656660079956\n",
      "test_accuracy  0.8318452380952381\n",
      "test_precision_weighted  0.8359424603174603\n",
      "test_recall_weighted  0.8318452380952381\n",
      "test_f1_weighted  0.8314840130629604\n"
     ]
    }
   ],
   "source": [
    "hyperparameter = [1,2,3,4,5,6,7,8,9,10,11,12,13,14,15,16,17]\n",
    "result =[]\n",
    "for c in hyperparameter:\n",
    "    clf = make_pipeline(StandardScaler(),KNeighborsClassifier(n_neighbors=c))\n",
    "    scores = cross_validate(clf,x,y,cv=8,scoring=scoring)\n",
    "    result.append(mean_scores(scores))\n",
    "\n",
    "(index,acc) = find_best(result)\n",
    "print('best accuracy of KNN with 8-hold cross validation is:')\n",
    "print(str(acc*100) + ' %')\n",
    "print('hyper parameter: n_neighbors = '+ str(hyperparameter[index]))\n",
    "print('------------------------------')\n",
    "for key in result[index].keys():\n",
    "    print(key+'  ' + str(result[index][key]))"
   ]
  },
  {
   "attachments": {},
   "cell_type": "markdown",
   "metadata": {},
   "source": [
    "### random forest regressor"
   ]
  },
  {
   "cell_type": "code",
   "execution_count": 138,
   "metadata": {},
   "outputs": [
    {
     "name": "stdout",
     "output_type": "stream",
     "text": [
      "best accuracy of random forest with 8-hold cross validation is:\n",
      "77.64880952380952 %\n",
      "hyper parameter: max_depth = 3\n",
      "------------------------------\n",
      "fit_time  0.1870291829109192\n",
      "score_time  0.02338549494743347\n",
      "test_accuracy  0.7764880952380953\n",
      "test_precision_weighted  0.7925550144300145\n",
      "test_recall_weighted  0.7764880952380953\n",
      "test_f1_weighted  0.7731552346338993\n"
     ]
    }
   ],
   "source": [
    "hyperparameter = [1,2,3,4,5,6]\n",
    "result =[]\n",
    "for c in hyperparameter:\n",
    "    clf = make_pipeline(StandardScaler(),RandomForestClassifier(max_depth=c, random_state=0))\n",
    "    scores = cross_validate(clf,x,y,cv=8,scoring=scoring)\n",
    "    result.append(mean_scores(scores))\n",
    "\n",
    "(index,acc) = find_best(result)\n",
    "print('best accuracy of random forest with 8-hold cross validation is:')\n",
    "print(str(acc*100) + ' %')\n",
    "print('hyper parameter: max_depth = '+ str(hyperparameter[index]))\n",
    "print('------------------------------')\n",
    "for key in result[index].keys():\n",
    "    print(key+'  ' + str(result[index][key]))"
   ]
  },
  {
   "attachments": {},
   "cell_type": "markdown",
   "metadata": {},
   "source": [
    "### perceptron"
   ]
  },
  {
   "cell_type": "code",
   "execution_count": 140,
   "metadata": {},
   "outputs": [
    {
     "name": "stdout",
     "output_type": "stream",
     "text": [
      "best accuracy of perceptron with 8-hold cross validation is:\n",
      "69.58333333333333 %\n",
      "------------------------------\n",
      "fit_time  0.013980001211166382\n",
      "score_time  0.010817408561706543\n",
      "test_accuracy  0.6958333333333333\n",
      "test_precision_weighted  0.7355304913340628\n",
      "test_recall_weighted  0.6958333333333333\n",
      "test_f1_weighted  0.6853373267543243\n"
     ]
    }
   ],
   "source": [
    "result =[]\n",
    "clf = make_pipeline(StandardScaler(),Perceptron())\n",
    "scores = cross_validate(clf,x,y,cv=8,scoring=scoring)\n",
    "result.append(mean_scores(scores))\n",
    "\n",
    "(index,acc) = find_best(result)\n",
    "print('best accuracy of perceptron with 8-hold cross validation is:')\n",
    "print(str(acc*100) + ' %')\n",
    "print('------------------------------')\n",
    "for key in result[index].keys():\n",
    "    print(key+'  ' + str(result[index][key]))"
   ]
  },
  {
   "attachments": {},
   "cell_type": "markdown",
   "metadata": {},
   "source": [
    "### mlp classifier"
   ]
  },
  {
   "cell_type": "code",
   "execution_count": 143,
   "metadata": {},
   "outputs": [
    {
     "name": "stderr",
     "output_type": "stream",
     "text": [
      "/opt/anaconda3/lib/python3.8/site-packages/sklearn/neural_network/_multilayer_perceptron.py:614: ConvergenceWarning: Stochastic Optimizer: Maximum iterations (200) reached and the optimization hasn't converged yet.\n",
      "  warnings.warn(\n",
      "/opt/anaconda3/lib/python3.8/site-packages/sklearn/neural_network/_multilayer_perceptron.py:614: ConvergenceWarning: Stochastic Optimizer: Maximum iterations (200) reached and the optimization hasn't converged yet.\n",
      "  warnings.warn(\n",
      "/opt/anaconda3/lib/python3.8/site-packages/sklearn/neural_network/_multilayer_perceptron.py:614: ConvergenceWarning: Stochastic Optimizer: Maximum iterations (200) reached and the optimization hasn't converged yet.\n",
      "  warnings.warn(\n",
      "/opt/anaconda3/lib/python3.8/site-packages/sklearn/neural_network/_multilayer_perceptron.py:614: ConvergenceWarning: Stochastic Optimizer: Maximum iterations (200) reached and the optimization hasn't converged yet.\n",
      "  warnings.warn(\n",
      "/opt/anaconda3/lib/python3.8/site-packages/sklearn/neural_network/_multilayer_perceptron.py:614: ConvergenceWarning: Stochastic Optimizer: Maximum iterations (200) reached and the optimization hasn't converged yet.\n",
      "  warnings.warn(\n",
      "/opt/anaconda3/lib/python3.8/site-packages/sklearn/neural_network/_multilayer_perceptron.py:614: ConvergenceWarning: Stochastic Optimizer: Maximum iterations (200) reached and the optimization hasn't converged yet.\n",
      "  warnings.warn(\n",
      "/opt/anaconda3/lib/python3.8/site-packages/sklearn/neural_network/_multilayer_perceptron.py:614: ConvergenceWarning: Stochastic Optimizer: Maximum iterations (200) reached and the optimization hasn't converged yet.\n",
      "  warnings.warn(\n",
      "/opt/anaconda3/lib/python3.8/site-packages/sklearn/neural_network/_multilayer_perceptron.py:614: ConvergenceWarning: Stochastic Optimizer: Maximum iterations (200) reached and the optimization hasn't converged yet.\n",
      "  warnings.warn(\n",
      "/opt/anaconda3/lib/python3.8/site-packages/sklearn/neural_network/_multilayer_perceptron.py:614: ConvergenceWarning: Stochastic Optimizer: Maximum iterations (200) reached and the optimization hasn't converged yet.\n",
      "  warnings.warn(\n",
      "/opt/anaconda3/lib/python3.8/site-packages/sklearn/neural_network/_multilayer_perceptron.py:614: ConvergenceWarning: Stochastic Optimizer: Maximum iterations (200) reached and the optimization hasn't converged yet.\n",
      "  warnings.warn(\n",
      "/opt/anaconda3/lib/python3.8/site-packages/sklearn/neural_network/_multilayer_perceptron.py:614: ConvergenceWarning: Stochastic Optimizer: Maximum iterations (200) reached and the optimization hasn't converged yet.\n",
      "  warnings.warn(\n",
      "/opt/anaconda3/lib/python3.8/site-packages/sklearn/neural_network/_multilayer_perceptron.py:614: ConvergenceWarning: Stochastic Optimizer: Maximum iterations (200) reached and the optimization hasn't converged yet.\n",
      "  warnings.warn(\n",
      "/opt/anaconda3/lib/python3.8/site-packages/sklearn/neural_network/_multilayer_perceptron.py:614: ConvergenceWarning: Stochastic Optimizer: Maximum iterations (200) reached and the optimization hasn't converged yet.\n",
      "  warnings.warn(\n",
      "/opt/anaconda3/lib/python3.8/site-packages/sklearn/neural_network/_multilayer_perceptron.py:614: ConvergenceWarning: Stochastic Optimizer: Maximum iterations (200) reached and the optimization hasn't converged yet.\n",
      "  warnings.warn(\n",
      "/opt/anaconda3/lib/python3.8/site-packages/sklearn/neural_network/_multilayer_perceptron.py:614: ConvergenceWarning: Stochastic Optimizer: Maximum iterations (200) reached and the optimization hasn't converged yet.\n",
      "  warnings.warn(\n",
      "/opt/anaconda3/lib/python3.8/site-packages/sklearn/neural_network/_multilayer_perceptron.py:614: ConvergenceWarning: Stochastic Optimizer: Maximum iterations (200) reached and the optimization hasn't converged yet.\n",
      "  warnings.warn(\n",
      "/opt/anaconda3/lib/python3.8/site-packages/sklearn/neural_network/_multilayer_perceptron.py:614: ConvergenceWarning: Stochastic Optimizer: Maximum iterations (200) reached and the optimization hasn't converged yet.\n",
      "  warnings.warn(\n",
      "/opt/anaconda3/lib/python3.8/site-packages/sklearn/neural_network/_multilayer_perceptron.py:614: ConvergenceWarning: Stochastic Optimizer: Maximum iterations (200) reached and the optimization hasn't converged yet.\n",
      "  warnings.warn(\n",
      "/opt/anaconda3/lib/python3.8/site-packages/sklearn/neural_network/_multilayer_perceptron.py:614: ConvergenceWarning: Stochastic Optimizer: Maximum iterations (200) reached and the optimization hasn't converged yet.\n",
      "  warnings.warn(\n",
      "/opt/anaconda3/lib/python3.8/site-packages/sklearn/neural_network/_multilayer_perceptron.py:614: ConvergenceWarning: Stochastic Optimizer: Maximum iterations (200) reached and the optimization hasn't converged yet.\n",
      "  warnings.warn(\n",
      "/opt/anaconda3/lib/python3.8/site-packages/sklearn/neural_network/_multilayer_perceptron.py:614: ConvergenceWarning: Stochastic Optimizer: Maximum iterations (200) reached and the optimization hasn't converged yet.\n",
      "  warnings.warn(\n",
      "/opt/anaconda3/lib/python3.8/site-packages/sklearn/neural_network/_multilayer_perceptron.py:614: ConvergenceWarning: Stochastic Optimizer: Maximum iterations (200) reached and the optimization hasn't converged yet.\n",
      "  warnings.warn(\n",
      "/opt/anaconda3/lib/python3.8/site-packages/sklearn/neural_network/_multilayer_perceptron.py:614: ConvergenceWarning: Stochastic Optimizer: Maximum iterations (200) reached and the optimization hasn't converged yet.\n",
      "  warnings.warn(\n",
      "/opt/anaconda3/lib/python3.8/site-packages/sklearn/neural_network/_multilayer_perceptron.py:614: ConvergenceWarning: Stochastic Optimizer: Maximum iterations (200) reached and the optimization hasn't converged yet.\n",
      "  warnings.warn(\n",
      "/opt/anaconda3/lib/python3.8/site-packages/sklearn/neural_network/_multilayer_perceptron.py:614: ConvergenceWarning: Stochastic Optimizer: Maximum iterations (200) reached and the optimization hasn't converged yet.\n",
      "  warnings.warn(\n",
      "/opt/anaconda3/lib/python3.8/site-packages/sklearn/neural_network/_multilayer_perceptron.py:614: ConvergenceWarning: Stochastic Optimizer: Maximum iterations (200) reached and the optimization hasn't converged yet.\n",
      "  warnings.warn(\n",
      "/opt/anaconda3/lib/python3.8/site-packages/sklearn/neural_network/_multilayer_perceptron.py:614: ConvergenceWarning: Stochastic Optimizer: Maximum iterations (200) reached and the optimization hasn't converged yet.\n",
      "  warnings.warn(\n",
      "/opt/anaconda3/lib/python3.8/site-packages/sklearn/neural_network/_multilayer_perceptron.py:614: ConvergenceWarning: Stochastic Optimizer: Maximum iterations (200) reached and the optimization hasn't converged yet.\n",
      "  warnings.warn(\n",
      "/opt/anaconda3/lib/python3.8/site-packages/sklearn/neural_network/_multilayer_perceptron.py:614: ConvergenceWarning: Stochastic Optimizer: Maximum iterations (200) reached and the optimization hasn't converged yet.\n",
      "  warnings.warn(\n",
      "/opt/anaconda3/lib/python3.8/site-packages/sklearn/neural_network/_multilayer_perceptron.py:614: ConvergenceWarning: Stochastic Optimizer: Maximum iterations (200) reached and the optimization hasn't converged yet.\n",
      "  warnings.warn(\n",
      "/opt/anaconda3/lib/python3.8/site-packages/sklearn/neural_network/_multilayer_perceptron.py:614: ConvergenceWarning: Stochastic Optimizer: Maximum iterations (200) reached and the optimization hasn't converged yet.\n",
      "  warnings.warn(\n",
      "/opt/anaconda3/lib/python3.8/site-packages/sklearn/neural_network/_multilayer_perceptron.py:614: ConvergenceWarning: Stochastic Optimizer: Maximum iterations (200) reached and the optimization hasn't converged yet.\n",
      "  warnings.warn(\n",
      "/opt/anaconda3/lib/python3.8/site-packages/sklearn/metrics/_classification.py:1245: UndefinedMetricWarning: Precision is ill-defined and being set to 0.0 in labels with no predicted samples. Use `zero_division` parameter to control this behavior.\n",
      "  _warn_prf(average, modifier, msg_start, len(result))\n",
      "/opt/anaconda3/lib/python3.8/site-packages/sklearn/metrics/_classification.py:1245: UndefinedMetricWarning: Precision is ill-defined and being set to 0.0 in labels with no predicted samples. Use `zero_division` parameter to control this behavior.\n",
      "  _warn_prf(average, modifier, msg_start, len(result))\n",
      "/opt/anaconda3/lib/python3.8/site-packages/sklearn/metrics/_classification.py:1245: UndefinedMetricWarning: Precision is ill-defined and being set to 0.0 in labels with no predicted samples. Use `zero_division` parameter to control this behavior.\n",
      "  _warn_prf(average, modifier, msg_start, len(result))\n",
      "/opt/anaconda3/lib/python3.8/site-packages/sklearn/metrics/_classification.py:1245: UndefinedMetricWarning: Precision is ill-defined and being set to 0.0 in labels with no predicted samples. Use `zero_division` parameter to control this behavior.\n",
      "  _warn_prf(average, modifier, msg_start, len(result))\n",
      "/opt/anaconda3/lib/python3.8/site-packages/sklearn/metrics/_classification.py:1245: UndefinedMetricWarning: Precision is ill-defined and being set to 0.0 in labels with no predicted samples. Use `zero_division` parameter to control this behavior.\n",
      "  _warn_prf(average, modifier, msg_start, len(result))\n"
     ]
    },
    {
     "name": "stdout",
     "output_type": "stream",
     "text": [
      "best accuracy of MLPClassifier with 8-hold cross validation is:\n",
      "76.42857142857142 %\n",
      "hyper parameter: hidden_layer_sizes = (50,)\n",
      "------------------------------\n",
      "fit_time  0.3862118721008301\n",
      "score_time  0.01312604546546936\n",
      "test_accuracy  0.7642857142857142\n",
      "test_precision_weighted  0.779718475968476\n",
      "test_recall_weighted  0.7642857142857142\n",
      "test_f1_weighted  0.7614266408144286\n"
     ]
    },
    {
     "name": "stderr",
     "output_type": "stream",
     "text": [
      "/opt/anaconda3/lib/python3.8/site-packages/sklearn/metrics/_classification.py:1245: UndefinedMetricWarning: Precision is ill-defined and being set to 0.0 in labels with no predicted samples. Use `zero_division` parameter to control this behavior.\n",
      "  _warn_prf(average, modifier, msg_start, len(result))\n",
      "/opt/anaconda3/lib/python3.8/site-packages/sklearn/metrics/_classification.py:1245: UndefinedMetricWarning: Precision is ill-defined and being set to 0.0 in labels with no predicted samples. Use `zero_division` parameter to control this behavior.\n",
      "  _warn_prf(average, modifier, msg_start, len(result))\n",
      "/opt/anaconda3/lib/python3.8/site-packages/sklearn/metrics/_classification.py:1245: UndefinedMetricWarning: Precision is ill-defined and being set to 0.0 in labels with no predicted samples. Use `zero_division` parameter to control this behavior.\n",
      "  _warn_prf(average, modifier, msg_start, len(result))\n"
     ]
    }
   ],
   "source": [
    "hyperparameter = [(10,),(50,),(10,20),(20,10),(10,20,10)]\n",
    "result =[]\n",
    "for c in hyperparameter:\n",
    "    clf = make_pipeline(StandardScaler(),MLPClassifier(hidden_layer_sizes=c,activation='logistic'))\n",
    "    scores = cross_validate(clf,x,y,cv=8,scoring=scoring)\n",
    "    result.append(mean_scores(scores))\n",
    "\n",
    "(index,acc) = find_best(result)\n",
    "print('best accuracy of MLPClassifier with 8-hold cross validation is:')\n",
    "print(str(acc*100) + ' %')\n",
    "print('hyper parameter: hidden_layer_sizes = '+ str(hyperparameter[index]))\n",
    "print('------------------------------')\n",
    "for key in result[index].keys():\n",
    "    print(key+'  ' + str(result[index][key]))"
   ]
  },
  {
   "cell_type": "code",
   "execution_count": 25,
   "metadata": {},
   "outputs": [],
   "source": [
    "# fit_time=[0.028614461421966553,0.8237262070178986,0.013138800859451294,0.016671031713485718,0.1870291829109192,0.013980001211166382,0.3862118721008301]\n",
    "# score_time = [0.026972800493240356,0.016640156507492065,0.013396143913269043,0.021292656660079956,0.02338549494743347,0.010817408561706543,0.01312604546546936]\n",
    "# test_accuracy=[0.7952380952380953,0.7764880952380953,0.7886904761904762,0.8318452380952381,0.7764880952380953,0.6958333333333333,0.7642857142857142]\n",
    "# test_precision_weighted=[0.808770037832538,0.8177944624819624,0.8041215959965959,0.8359424603174603,0.7925550144300145,0.7355304913340628,0.779718475968476]\n",
    "# test_f1_weighted=[0.793228612782052,0.7682338494838494,0.7835983874558423,0.8314840130629604,0.7731552346338993,0.6853373267543243,0.7614266408144286]\n",
    "# model = ['logisticregression','svm','decision tree','KNN','random forest','perceptron','MLPClassifier']"
   ]
  },
  {
   "cell_type": "code",
   "execution_count": 27,
   "metadata": {},
   "outputs": [
    {
     "data": {
      "image/png": "[encoded data removed]",
      "text/plain": [
       "<Figure size 640x480 with 1 Axes>"
      ]
     },
     "metadata": {},
     "output_type": "display_data"
    },
    {
     "data": {
      "text/plain": [
       "<ggplot: (8762635245650)>"
      ]
     },
     "execution_count": 27,
     "metadata": {},
     "output_type": "execute_result"
    }
   ],
   "source": [
    "df_result = pd.read_csv('result.csv')\n",
    "\n",
    "p9.ggplot(df_result, p9.aes(x='model',y = 'result',fill='metric')) + \\\n",
    "    p9.geom_bar(stat=\"identity\",position=p9.position_dodge()) +\\\n",
    "    p9.theme(axis_text_x = p9.element_text(angle=90))\n"
   ]
  },
  {
   "cell_type": "code",
   "execution_count": 29,
   "metadata": {},
   "outputs": [
    {
     "data": {
      "image/png": "[encoded data removed]",
      "text/plain": [
       "<Figure size 640x480 with 1 Axes>"
      ]
     },
     "metadata": {},
     "output_type": "display_data"
    },
    {
     "data": {
      "text/plain": [
       "<ggplot: (8762636021745)>"
      ]
     },
     "execution_count": 29,
     "metadata": {},
     "output_type": "execute_result"
    }
   ],
   "source": [
    "df_result = pd.read_csv('fit-time.csv')\n",
    "\n",
    "p9.ggplot(df_result, p9.aes(x='model',y = 'fit_time')) + \\\n",
    "    p9.geom_bar(stat=\"identity\",position=p9.position_dodge()) +\\\n",
    "    p9.theme(axis_text_x = p9.element_text(angle=90))"
   ]
  }
 ],
 "metadata": {
  "kernelspec": {
   "display_name": "data_analysis_venv",
   "language": "python",
   "name": "python3"
  },
  "language_info": {
   "codemirror_mode": {
    "name": "ipython",
    "version": 3
   },
   "file_extension": ".py",
   "mimetype": "text/x-python",
   "name": "python",
   "nbconvert_exporter": "python",
   "pygments_lexer": "ipython3",
   "version": "3.8.8"
  },
  "orig_nbformat": 4,
  "vscode": {
   "interpreter": {
    "hash": "c556b9ea70024ba77d9d301b22a30037614c5ccf36c0d5a16acb638365963c2c"
   }
  }
 },
 "nbformat": 4,
 "nbformat_minor": 2
}
